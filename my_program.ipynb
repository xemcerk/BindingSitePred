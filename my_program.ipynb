{
 "nbformat": 4,
 "nbformat_minor": 2,
 "metadata": {
  "language_info": {
   "name": "python",
   "codemirror_mode": {
    "name": "ipython",
    "version": 3
   },
   "version": "3.7.5"
  },
  "orig_nbformat": 2,
  "file_extension": ".py",
  "mimetype": "text/x-python",
  "name": "python",
  "npconvert_exporter": "python",
  "pygments_lexer": "ipython3",
  "version": 3
 },
 "cells": [
  {
   "cell_type": "code",
   "execution_count": 1,
   "metadata": {},
   "outputs": [],
   "source": [
    "import pandas as pd\n",
    "import numpy as np"
   ]
  },
  {
   "cell_type": "code",
   "execution_count": 2,
   "metadata": {},
   "outputs": [
    {
     "data": {
      "text/html": "<div>\n<style scoped>\n    .dataframe tbody tr th:only-of-type {\n        vertical-align: middle;\n    }\n\n    .dataframe tbody tr th {\n        vertical-align: top;\n    }\n\n    .dataframe thead th {\n        text-align: right;\n    }\n</style>\n<table border=\"1\" class=\"dataframe\">\n  <thead>\n    <tr style=\"text-align: right;\">\n      <th></th>\n      <th>NO</th>\n      <th>Name</th>\n      <th>SequenceAmount</th>\n      <th>Sequence</th>\n      <th>Sites Number</th>\n      <th>Binding Sites</th>\n      <th>v1*seqloc</th>\n      <th>v2*seqloc</th>\n      <th>v3*seqloc</th>\n      <th>v4*seqloc</th>\n      <th>...</th>\n      <th>cp(hb)*loc</th>\n      <th>cp(fg)*loc</th>\n      <th>v1*energyloc</th>\n      <th>v2*energyloc</th>\n      <th>v3*energyloc</th>\n      <th>v4*energyloc</th>\n      <th>cp(rs)*energyloc</th>\n      <th>cp(hb)*energyloc</th>\n      <th>cp(fg)*energyloc</th>\n      <th>cb*energyloc</th>\n    </tr>\n  </thead>\n  <tbody>\n    <tr>\n      <th>0</th>\n      <td>1</td>\n      <td>1AJU</td>\n      <td>30</td>\n      <td>G</td>\n      <td>1</td>\n      <td>0</td>\n      <td>0.084576</td>\n      <td>1.026948</td>\n      <td>0.000000</td>\n      <td>-0.200000</td>\n      <td>...</td>\n      <td>0.000000</td>\n      <td>0.000000</td>\n      <td>0.087492</td>\n      <td>1.062360</td>\n      <td>0.000000</td>\n      <td>-0.206897</td>\n      <td>0.034483</td>\n      <td>0.000000</td>\n      <td>0.000000</td>\n      <td>0.103448</td>\n    </tr>\n    <tr>\n      <th>1</th>\n      <td>1</td>\n      <td>1AJU</td>\n      <td>30</td>\n      <td>G</td>\n      <td>2</td>\n      <td>0</td>\n      <td>0.169151</td>\n      <td>2.053897</td>\n      <td>0.000000</td>\n      <td>-0.400000</td>\n      <td>...</td>\n      <td>0.000000</td>\n      <td>0.000000</td>\n      <td>0.174984</td>\n      <td>2.124721</td>\n      <td>0.000000</td>\n      <td>-0.413793</td>\n      <td>0.068966</td>\n      <td>0.000000</td>\n      <td>0.000000</td>\n      <td>0.206897</td>\n    </tr>\n    <tr>\n      <th>2</th>\n      <td>1</td>\n      <td>1AJU</td>\n      <td>30</td>\n      <td>C</td>\n      <td>3</td>\n      <td>0</td>\n      <td>0.560113</td>\n      <td>9.442264</td>\n      <td>9.670000</td>\n      <td>-0.321000</td>\n      <td>...</td>\n      <td>0.100000</td>\n      <td>0.100000</td>\n      <td>0.579427</td>\n      <td>9.767859</td>\n      <td>10.003448</td>\n      <td>-0.332069</td>\n      <td>0.103448</td>\n      <td>0.103448</td>\n      <td>0.103448</td>\n      <td>0.310345</td>\n    </tr>\n    <tr>\n      <th>3</th>\n      <td>1</td>\n      <td>1AJU</td>\n      <td>30</td>\n      <td>C</td>\n      <td>4</td>\n      <td>0</td>\n      <td>0.746817</td>\n      <td>12.589685</td>\n      <td>12.893333</td>\n      <td>-0.428000</td>\n      <td>...</td>\n      <td>0.133333</td>\n      <td>0.133333</td>\n      <td>0.772570</td>\n      <td>13.023812</td>\n      <td>13.337931</td>\n      <td>-0.442759</td>\n      <td>0.137931</td>\n      <td>0.137931</td>\n      <td>0.137931</td>\n      <td>0.413793</td>\n    </tr>\n    <tr>\n      <th>4</th>\n      <td>1</td>\n      <td>1AJU</td>\n      <td>30</td>\n      <td>A</td>\n      <td>5</td>\n      <td>0</td>\n      <td>0.973389</td>\n      <td>17.358617</td>\n      <td>30.825950</td>\n      <td>-0.506667</td>\n      <td>...</td>\n      <td>0.166667</td>\n      <td>0.166667</td>\n      <td>1.006954</td>\n      <td>17.957190</td>\n      <td>31.888914</td>\n      <td>-0.524138</td>\n      <td>0.172414</td>\n      <td>0.172414</td>\n      <td>0.172414</td>\n      <td>0.344828</td>\n    </tr>\n  </tbody>\n</table>\n<p>5 rows × 22 columns</p>\n</div>",
      "text/plain": "   NO  Name  SequenceAmount Sequence  Sites Number  Binding Sites  v1*seqloc  \\\n0   1  1AJU              30        G             1              0   0.084576   \n1   1  1AJU              30        G             2              0   0.169151   \n2   1  1AJU              30        C             3              0   0.560113   \n3   1  1AJU              30        C             4              0   0.746817   \n4   1  1AJU              30        A             5              0   0.973389   \n\n   v2*seqloc  v3*seqloc  v4*seqloc  ...  cp(hb)*loc  cp(fg)*loc  v1*energyloc  \\\n0   1.026948   0.000000  -0.200000  ...    0.000000    0.000000      0.087492   \n1   2.053897   0.000000  -0.400000  ...    0.000000    0.000000      0.174984   \n2   9.442264   9.670000  -0.321000  ...    0.100000    0.100000      0.579427   \n3  12.589685  12.893333  -0.428000  ...    0.133333    0.133333      0.772570   \n4  17.358617  30.825950  -0.506667  ...    0.166667    0.166667      1.006954   \n\n   v2*energyloc  v3*energyloc  v4*energyloc  cp(rs)*energyloc  \\\n0      1.062360      0.000000     -0.206897          0.034483   \n1      2.124721      0.000000     -0.413793          0.068966   \n2      9.767859     10.003448     -0.332069          0.103448   \n3     13.023812     13.337931     -0.442759          0.137931   \n4     17.957190     31.888914     -0.524138          0.172414   \n\n   cp(hb)*energyloc  cp(fg)*energyloc  cb*energyloc  \n0          0.000000          0.000000      0.103448  \n1          0.000000          0.000000      0.206897  \n2          0.103448          0.103448      0.310345  \n3          0.137931          0.137931      0.413793  \n4          0.172414          0.172414      0.344828  \n\n[5 rows x 22 columns]"
     },
     "execution_count": 2,
     "metadata": {},
     "output_type": "execute_result"
    }
   ],
   "source": [
    "df_all = pd.read_excel('data.xlsx')\n",
    "df_all.head()"
   ]
  },
  {
   "cell_type": "code",
   "execution_count": 3,
   "metadata": {},
   "outputs": [
    {
     "data": {
      "text/html": "<div>\n<style scoped>\n    .dataframe tbody tr th:only-of-type {\n        vertical-align: middle;\n    }\n\n    .dataframe tbody tr th {\n        vertical-align: top;\n    }\n\n    .dataframe thead th {\n        text-align: right;\n    }\n</style>\n<table border=\"1\" class=\"dataframe\">\n  <thead>\n    <tr style=\"text-align: right;\">\n      <th></th>\n      <th>NO</th>\n      <th>Name</th>\n      <th>SequenceAmount</th>\n      <th>Sequence</th>\n      <th>Sites Number</th>\n      <th>Binding Sites</th>\n      <th>v1*seqloc</th>\n      <th>v2*seqloc</th>\n      <th>v3*seqloc</th>\n      <th>v4*seqloc</th>\n      <th>...</th>\n      <th>cp(hb)*loc</th>\n      <th>cp(fg)*loc</th>\n      <th>v1*energyloc</th>\n      <th>v2*energyloc</th>\n      <th>v3*energyloc</th>\n      <th>v4*energyloc</th>\n      <th>cp(rs)*energyloc</th>\n      <th>cp(hb)*energyloc</th>\n      <th>cp(fg)*energyloc</th>\n      <th>cb*energyloc</th>\n    </tr>\n  </thead>\n  <tbody>\n    <tr>\n      <th>6</th>\n      <td>1</td>\n      <td>1AJU</td>\n      <td>30</td>\n      <td>A</td>\n      <td>7</td>\n      <td>1</td>\n      <td>1.362745</td>\n      <td>24.302063</td>\n      <td>43.156330</td>\n      <td>-0.709333</td>\n      <td>...</td>\n      <td>0.233333</td>\n      <td>0.233333</td>\n      <td>1.409736</td>\n      <td>25.140066</td>\n      <td>44.644479</td>\n      <td>-0.733793</td>\n      <td>0.241379</td>\n      <td>0.241379</td>\n      <td>0.241379</td>\n      <td>0.482759</td>\n    </tr>\n    <tr>\n      <th>7</th>\n      <td>1</td>\n      <td>1AJU</td>\n      <td>30</td>\n      <td>U</td>\n      <td>8</td>\n      <td>1</td>\n      <td>1.593983</td>\n      <td>25.648755</td>\n      <td>41.587573</td>\n      <td>-0.818667</td>\n      <td>...</td>\n      <td>0.266667</td>\n      <td>0.000000</td>\n      <td>1.648948</td>\n      <td>26.533194</td>\n      <td>43.021628</td>\n      <td>-0.846897</td>\n      <td>0.000000</td>\n      <td>0.275862</td>\n      <td>0.000000</td>\n      <td>0.551724</td>\n    </tr>\n    <tr>\n      <th>9</th>\n      <td>1</td>\n      <td>1AJU</td>\n      <td>30</td>\n      <td>G</td>\n      <td>10</td>\n      <td>1</td>\n      <td>0.845757</td>\n      <td>10.269483</td>\n      <td>0.000000</td>\n      <td>-2.000000</td>\n      <td>...</td>\n      <td>0.000000</td>\n      <td>0.000000</td>\n      <td>0.874921</td>\n      <td>10.623603</td>\n      <td>0.000000</td>\n      <td>-2.068966</td>\n      <td>0.344828</td>\n      <td>0.000000</td>\n      <td>0.000000</td>\n      <td>1.034483</td>\n    </tr>\n    <tr>\n      <th>20</th>\n      <td>1</td>\n      <td>1AJU</td>\n      <td>30</td>\n      <td>C</td>\n      <td>21</td>\n      <td>1</td>\n      <td>3.920791</td>\n      <td>66.095848</td>\n      <td>67.690000</td>\n      <td>-2.247000</td>\n      <td>...</td>\n      <td>0.700000</td>\n      <td>0.700000</td>\n      <td>4.055991</td>\n      <td>68.375015</td>\n      <td>70.024138</td>\n      <td>-2.324483</td>\n      <td>0.724138</td>\n      <td>0.724138</td>\n      <td>0.724138</td>\n      <td>2.172414</td>\n    </tr>\n    <tr>\n      <th>21</th>\n      <td>1</td>\n      <td>1AJU</td>\n      <td>30</td>\n      <td>U</td>\n      <td>22</td>\n      <td>1</td>\n      <td>4.383455</td>\n      <td>70.534075</td>\n      <td>114.365827</td>\n      <td>-2.251333</td>\n      <td>...</td>\n      <td>0.733333</td>\n      <td>0.000000</td>\n      <td>4.534608</td>\n      <td>72.966285</td>\n      <td>118.309476</td>\n      <td>-2.328966</td>\n      <td>0.000000</td>\n      <td>0.758621</td>\n      <td>0.000000</td>\n      <td>1.517241</td>\n    </tr>\n  </tbody>\n</table>\n<p>5 rows × 22 columns</p>\n</div>",
      "text/plain": "    NO  Name  SequenceAmount Sequence  Sites Number  Binding Sites  v1*seqloc  \\\n6    1  1AJU              30        A             7              1   1.362745   \n7    1  1AJU              30        U             8              1   1.593983   \n9    1  1AJU              30        G            10              1   0.845757   \n20   1  1AJU              30        C            21              1   3.920791   \n21   1  1AJU              30        U            22              1   4.383455   \n\n    v2*seqloc   v3*seqloc  v4*seqloc  ...  cp(hb)*loc  cp(fg)*loc  \\\n6   24.302063   43.156330  -0.709333  ...    0.233333    0.233333   \n7   25.648755   41.587573  -0.818667  ...    0.266667    0.000000   \n9   10.269483    0.000000  -2.000000  ...    0.000000    0.000000   \n20  66.095848   67.690000  -2.247000  ...    0.700000    0.700000   \n21  70.534075  114.365827  -2.251333  ...    0.733333    0.000000   \n\n    v1*energyloc  v2*energyloc  v3*energyloc  v4*energyloc  cp(rs)*energyloc  \\\n6       1.409736     25.140066     44.644479     -0.733793          0.241379   \n7       1.648948     26.533194     43.021628     -0.846897          0.000000   \n9       0.874921     10.623603      0.000000     -2.068966          0.344828   \n20      4.055991     68.375015     70.024138     -2.324483          0.724138   \n21      4.534608     72.966285    118.309476     -2.328966          0.000000   \n\n    cp(hb)*energyloc  cp(fg)*energyloc  cb*energyloc  \n6           0.241379          0.241379      0.482759  \n7           0.275862          0.000000      0.551724  \n9           0.000000          0.000000      1.034483  \n20          0.724138          0.724138      2.172414  \n21          0.758621          0.000000      1.517241  \n\n[5 rows x 22 columns]"
     },
     "execution_count": 3,
     "metadata": {},
     "output_type": "execute_result"
    }
   ],
   "source": [
    "df_isbs = df_all.loc[df_all['Binding Sites']==1]\n",
    "df_notbs = df_all.loc[df_all['Binding Sites']==0]\n",
    "df_isbs.head()"
   ]
  },
  {
   "cell_type": "code",
   "execution_count": 4,
   "metadata": {},
   "outputs": [],
   "source": [
    "col2drop = ['NO','SequenceAmount','Sites Number','Binding Sites']"
   ]
  },
  {
   "cell_type": "code",
   "execution_count": 7,
   "metadata": {},
   "outputs": [],
   "source": [
    "t1_isbs = df_isbs.loc[df_isbs['NO'] == 1].describe().drop(col2drop,axis=1).loc['mean']\n",
    "t1_isbs.name = 1\n",
    "predictators = t1_isbs.index.to_list()\n",
    "t_isbs = pd.DataFrame(columns=predictators)\n",
    "t_isbs = t_isbs.append(t1_isbs)\n",
    "\n",
    "for i in range(2,71):\n",
    "    t_tmp = df_isbs.loc[df_isbs['NO'] == i].describe().drop(col2drop,axis=1).loc['mean']\n",
    "    t_tmp.name = i\n",
    "    t_isbs = t_isbs.append(t_tmp)"
   ]
  },
  {
   "cell_type": "code",
   "execution_count": 8,
   "metadata": {},
   "outputs": [],
   "source": [
    "miu_isbs = df_isbs.describe().drop(col2drop,axis=1).loc['mean']"
   ]
  },
  {
   "cell_type": "code",
   "execution_count": 9,
   "metadata": {},
   "outputs": [],
   "source": [
    "t1_notbs = df_notbs.loc[df_notbs['NO'] == 1].describe().drop(col2drop,axis=1).loc['mean']\n",
    "t1_notbs.name = 1\n",
    "predictators = t1_notbs.index.to_list()\n",
    "t_notbs = pd.DataFrame(columns=predictators)\n",
    "t_notbs = t_notbs.append(t1_notbs)\n",
    "\n",
    "for i in range(2,71):\n",
    "    t_tmp = df_notbs.loc[df_notbs['NO'] == i].describe().drop(col2drop,axis=1).loc['mean']\n",
    "    t_tmp.name = i\n",
    "    t_notbs = t_notbs.append(t_tmp)\n",
    "\n",
    "miu_notbs = df_notbs.describe().drop(col2drop,axis=1).loc['mean']"
   ]
  },
  {
   "cell_type": "code",
   "execution_count": null,
   "metadata": {},
   "outputs": [],
   "source": []
  }
 ]
}