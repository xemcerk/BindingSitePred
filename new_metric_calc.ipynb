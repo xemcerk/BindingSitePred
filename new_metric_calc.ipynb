{
 "nbformat": 4,
 "nbformat_minor": 2,
 "metadata": {
  "language_info": {
   "name": "python",
   "codemirror_mode": {
    "name": "ipython",
    "version": 3
   },
   "version": "3.7.5"
  },
  "orig_nbformat": 2,
  "file_extension": ".py",
  "mimetype": "text/x-python",
  "name": "python",
  "npconvert_exporter": "python",
  "pygments_lexer": "ipython3",
  "version": 3
 },
 "cells": [
  {
   "cell_type": "code",
   "execution_count": 1,
   "metadata": {},
   "outputs": [],
   "source": [
    "import pandas as pd\n",
    "import numpy as np"
   ]
  },
  {
   "cell_type": "code",
   "execution_count": 2,
   "metadata": {},
   "outputs": [],
   "source": [
    "df_complete = pd.read_excel('data_complete_rectified.xlsx')\n",
    "df_complete.head()"
   ]
  },
  {
   "cell_type": "code",
   "execution_count": 6,
   "metadata": {},
   "outputs": [
    {
     "ename": "IndexError",
     "evalue": "list index out of range",
     "output_type": "error",
     "traceback": [
      "\u001b[0;31m---------------------------------------------------------------------------\u001b[0m",
      "\u001b[0;31mIndexError\u001b[0m                                Traceback (most recent call last)",
      "\u001b[0;32m<ipython-input-6-6a41b0549b16>\u001b[0m in \u001b[0;36m<module>\u001b[0;34m\u001b[0m\n\u001b[1;32m      6\u001b[0m     \u001b[0moffset\u001b[0m\u001b[0;34m.\u001b[0m\u001b[0mappend\u001b[0m\u001b[0;34m(\u001b[0m\u001b[0mi\u001b[0m\u001b[0;34m)\u001b[0m\u001b[0;34m\u001b[0m\u001b[0;34m\u001b[0m\u001b[0m\n\u001b[1;32m      7\u001b[0m     \u001b[0mi\u001b[0m \u001b[0;34m+=\u001b[0m \u001b[0msequenceAmount_cur\u001b[0m\u001b[0;34m\u001b[0m\u001b[0;34m\u001b[0m\u001b[0m\n\u001b[0;32m----> 8\u001b[0;31m     \u001b[0;32massert\u001b[0m \u001b[0mdf_complete\u001b[0m\u001b[0;34m.\u001b[0m\u001b[0miloc\u001b[0m\u001b[0;34m[\u001b[0m\u001b[0moffset\u001b[0m\u001b[0;34m[\u001b[0m\u001b[0;34m-\u001b[0m\u001b[0;36m1\u001b[0m\u001b[0;34m]\u001b[0m\u001b[0;34m]\u001b[0m\u001b[0;34m[\u001b[0m\u001b[0;34m'NO'\u001b[0m\u001b[0;34m]\u001b[0m \u001b[0;34m!=\u001b[0m \u001b[0mdf_complete\u001b[0m\u001b[0;34m.\u001b[0m\u001b[0miloc\u001b[0m\u001b[0;34m[\u001b[0m\u001b[0moffset\u001b[0m\u001b[0;34m[\u001b[0m\u001b[0;34m-\u001b[0m\u001b[0;36m2\u001b[0m\u001b[0;34m]\u001b[0m\u001b[0;34m]\u001b[0m\u001b[0;34m[\u001b[0m\u001b[0;34m'NO'\u001b[0m\u001b[0;34m]\u001b[0m\u001b[0;34m\u001b[0m\u001b[0;34m\u001b[0m\u001b[0m\n\u001b[0m",
      "\u001b[0;31mIndexError\u001b[0m: list index out of range"
     ]
    }
   ],
   "source": [
    "sequenceAmount = df_complete['SequenceAmount'].to_list()\n",
    "offset = []\n",
    "i = 0\n",
    "while(i < len(sequenceAmount)):\n",
    "    sequenceAmount_cur = sequenceAmount[i]\n",
    "    offset.append(i)\n",
    "    i += sequenceAmount_cur\n",
    "    assert df_complete.iloc[offset[-1]]['NO'] != df_complete.iloc[offset[-2]]['NO']"
   ]
  },
  {
   "cell_type": "code",
   "execution_count": 7,
   "metadata": {},
   "outputs": [
    {
     "name": "stdout",
     "output_type": "stream",
     "text": "25\n26\n27\n"
    }
   ],
   "source": [
    "for i in range(1,72):\n",
    "    if(df_complete[df_complete['NO']==i].shape[0] != \n",
    "    df_complete[df_complete['NO']==i]['SequenceAmount'].mean()):\n",
    "        print(i)\n"
   ]
  },
  {
   "cell_type": "code",
   "execution_count": 10,
   "metadata": {},
   "outputs": [
    {
     "data": {
      "text/html": "<div>\n<style scoped>\n    .dataframe tbody tr th:only-of-type {\n        vertical-align: middle;\n    }\n\n    .dataframe tbody tr th {\n        vertical-align: top;\n    }\n\n    .dataframe thead th {\n        text-align: right;\n    }\n</style>\n<table border=\"1\" class=\"dataframe\">\n  <thead>\n    <tr style=\"text-align: right;\">\n      <th></th>\n      <th>NO</th>\n      <th>Name</th>\n      <th>Sequence</th>\n      <th>Sites Number</th>\n      <th>start</th>\n      <th>end</th>\n      <th>SequenceAmount</th>\n      <th>Density</th>\n      <th>v1*energyloc</th>\n      <th>v2*energyloc</th>\n      <th>...</th>\n      <th>v4*seqloc</th>\n      <th>cb*seqloc</th>\n      <th>cp(rs)*seqloc</th>\n      <th>cp(hb)*seqloc</th>\n      <th>cp(fg)*seqloc</th>\n      <th>Sequence_A</th>\n      <th>Sequence_C</th>\n      <th>Sequence_G</th>\n      <th>Sequence_U</th>\n      <th>BS</th>\n    </tr>\n  </thead>\n  <tbody>\n    <tr>\n      <th>961</th>\n      <td>27</td>\n      <td>1TN1</td>\n      <td>G</td>\n      <td>1</td>\n      <td>1</td>\n      <td>4</td>\n      <td>38</td>\n      <td>1.000000</td>\n      <td>0.000000</td>\n      <td>0.000000</td>\n      <td>...</td>\n      <td>-0.078947</td>\n      <td>0.039474</td>\n      <td>0.013158</td>\n      <td>0.000000</td>\n      <td>0.000000</td>\n      <td>0</td>\n      <td>0</td>\n      <td>1</td>\n      <td>0</td>\n      <td>0</td>\n    </tr>\n    <tr>\n      <th>962</th>\n      <td>27</td>\n      <td>1TN1</td>\n      <td>C</td>\n      <td>2</td>\n      <td>1</td>\n      <td>5</td>\n      <td>38</td>\n      <td>0.500000</td>\n      <td>0.000000</td>\n      <td>0.000000</td>\n      <td>...</td>\n      <td>-0.084474</td>\n      <td>0.078947</td>\n      <td>0.026316</td>\n      <td>0.026316</td>\n      <td>0.026316</td>\n      <td>0</td>\n      <td>1</td>\n      <td>0</td>\n      <td>0</td>\n      <td>0</td>\n    </tr>\n    <tr>\n      <th>963</th>\n      <td>27</td>\n      <td>1TN1</td>\n      <td>G</td>\n      <td>3</td>\n      <td>1</td>\n      <td>6</td>\n      <td>38</td>\n      <td>0.666667</td>\n      <td>0.000000</td>\n      <td>0.000000</td>\n      <td>...</td>\n      <td>-0.236842</td>\n      <td>0.118421</td>\n      <td>0.039474</td>\n      <td>0.000000</td>\n      <td>0.000000</td>\n      <td>0</td>\n      <td>0</td>\n      <td>1</td>\n      <td>0</td>\n      <td>0</td>\n    </tr>\n    <tr>\n      <th>964</th>\n      <td>27</td>\n      <td>1TN1</td>\n      <td>G</td>\n      <td>4</td>\n      <td>1</td>\n      <td>7</td>\n      <td>38</td>\n      <td>0.750000</td>\n      <td>0.000000</td>\n      <td>0.000000</td>\n      <td>...</td>\n      <td>-0.315789</td>\n      <td>0.157895</td>\n      <td>0.052632</td>\n      <td>0.000000</td>\n      <td>0.000000</td>\n      <td>0</td>\n      <td>0</td>\n      <td>1</td>\n      <td>0</td>\n      <td>0</td>\n    </tr>\n    <tr>\n      <th>965</th>\n      <td>27</td>\n      <td>1TN1</td>\n      <td>A</td>\n      <td>5</td>\n      <td>2</td>\n      <td>8</td>\n      <td>38</td>\n      <td>0.200000</td>\n      <td>0.000000</td>\n      <td>0.000000</td>\n      <td>...</td>\n      <td>-0.200000</td>\n      <td>0.131579</td>\n      <td>0.065789</td>\n      <td>0.065789</td>\n      <td>0.065789</td>\n      <td>1</td>\n      <td>0</td>\n      <td>0</td>\n      <td>0</td>\n      <td>0</td>\n    </tr>\n    <tr>\n      <th>...</th>\n      <td>...</td>\n      <td>...</td>\n      <td>...</td>\n      <td>...</td>\n      <td>...</td>\n      <td>...</td>\n      <td>...</td>\n      <td>...</td>\n      <td>...</td>\n      <td>...</td>\n      <td>...</td>\n      <td>...</td>\n      <td>...</td>\n      <td>...</td>\n      <td>...</td>\n      <td>...</td>\n      <td>...</td>\n      <td>...</td>\n      <td>...</td>\n      <td>...</td>\n      <td>...</td>\n    </tr>\n    <tr>\n      <th>1032</th>\n      <td>27</td>\n      <td>1TN1</td>\n      <td>C</td>\n      <td>72</td>\n      <td>69</td>\n      <td>75</td>\n      <td>38</td>\n      <td>0.222222</td>\n      <td>3.200646</td>\n      <td>53.955794</td>\n      <td>...</td>\n      <td>-3.041053</td>\n      <td>2.842105</td>\n      <td>0.947368</td>\n      <td>0.947368</td>\n      <td>0.947368</td>\n      <td>0</td>\n      <td>1</td>\n      <td>0</td>\n      <td>0</td>\n      <td>0</td>\n    </tr>\n    <tr>\n      <th>1033</th>\n      <td>27</td>\n      <td>1TN1</td>\n      <td>A</td>\n      <td>73</td>\n      <td>70</td>\n      <td>76</td>\n      <td>38</td>\n      <td>0.246575</td>\n      <td>4.171669</td>\n      <td>74.394071</td>\n      <td>...</td>\n      <td>-2.920000</td>\n      <td>1.921053</td>\n      <td>0.960526</td>\n      <td>0.960526</td>\n      <td>0.960526</td>\n      <td>1</td>\n      <td>0</td>\n      <td>0</td>\n      <td>0</td>\n      <td>0</td>\n    </tr>\n    <tr>\n      <th>1034</th>\n      <td>27</td>\n      <td>1TN1</td>\n      <td>C</td>\n      <td>74</td>\n      <td>71</td>\n      <td>76</td>\n      <td>38</td>\n      <td>0.229730</td>\n      <td>4.800969</td>\n      <td>80.933691</td>\n      <td>...</td>\n      <td>-3.125526</td>\n      <td>2.921053</td>\n      <td>0.973684</td>\n      <td>0.973684</td>\n      <td>0.973684</td>\n      <td>0</td>\n      <td>1</td>\n      <td>0</td>\n      <td>0</td>\n      <td>0</td>\n    </tr>\n    <tr>\n      <th>1035</th>\n      <td>27</td>\n      <td>1TN1</td>\n      <td>C</td>\n      <td>75</td>\n      <td>72</td>\n      <td>76</td>\n      <td>38</td>\n      <td>0.240000</td>\n      <td>5.601130</td>\n      <td>94.422640</td>\n      <td>...</td>\n      <td>-3.167763</td>\n      <td>2.960526</td>\n      <td>0.986842</td>\n      <td>0.986842</td>\n      <td>0.986842</td>\n      <td>0</td>\n      <td>1</td>\n      <td>0</td>\n      <td>0</td>\n      <td>0</td>\n    </tr>\n    <tr>\n      <th>1036</th>\n      <td>27</td>\n      <td>1TN1</td>\n      <td>A</td>\n      <td>76</td>\n      <td>73</td>\n      <td>76</td>\n      <td>38</td>\n      <td>0.250000</td>\n      <td>0.000000</td>\n      <td>0.000000</td>\n      <td>...</td>\n      <td>-3.040000</td>\n      <td>2.000000</td>\n      <td>1.000000</td>\n      <td>1.000000</td>\n      <td>1.000000</td>\n      <td>1</td>\n      <td>0</td>\n      <td>0</td>\n      <td>0</td>\n      <td>0</td>\n    </tr>\n  </tbody>\n</table>\n<p>76 rows × 32 columns</p>\n</div>",
      "text/plain": "      NO  Name Sequence  Sites Number  start  end  SequenceAmount   Density  \\\n961   27  1TN1        G             1      1    4              38  1.000000   \n962   27  1TN1        C             2      1    5              38  0.500000   \n963   27  1TN1        G             3      1    6              38  0.666667   \n964   27  1TN1        G             4      1    7              38  0.750000   \n965   27  1TN1        A             5      2    8              38  0.200000   \n...   ..   ...      ...           ...    ...  ...             ...       ...   \n1032  27  1TN1        C            72     69   75              38  0.222222   \n1033  27  1TN1        A            73     70   76              38  0.246575   \n1034  27  1TN1        C            74     71   76              38  0.229730   \n1035  27  1TN1        C            75     72   76              38  0.240000   \n1036  27  1TN1        A            76     73   76              38  0.250000   \n\n      v1*energyloc  v2*energyloc  ...  v4*seqloc  cb*seqloc  cp(rs)*seqloc  \\\n961       0.000000      0.000000  ...  -0.078947   0.039474       0.013158   \n962       0.000000      0.000000  ...  -0.084474   0.078947       0.026316   \n963       0.000000      0.000000  ...  -0.236842   0.118421       0.039474   \n964       0.000000      0.000000  ...  -0.315789   0.157895       0.052632   \n965       0.000000      0.000000  ...  -0.200000   0.131579       0.065789   \n...            ...           ...  ...        ...        ...            ...   \n1032      3.200646     53.955794  ...  -3.041053   2.842105       0.947368   \n1033      4.171669     74.394071  ...  -2.920000   1.921053       0.960526   \n1034      4.800969     80.933691  ...  -3.125526   2.921053       0.973684   \n1035      5.601130     94.422640  ...  -3.167763   2.960526       0.986842   \n1036      0.000000      0.000000  ...  -3.040000   2.000000       1.000000   \n\n      cp(hb)*seqloc  cp(fg)*seqloc  Sequence_A  Sequence_C  Sequence_G  \\\n961        0.000000       0.000000           0           0           1   \n962        0.026316       0.026316           0           1           0   \n963        0.000000       0.000000           0           0           1   \n964        0.000000       0.000000           0           0           1   \n965        0.065789       0.065789           1           0           0   \n...             ...            ...         ...         ...         ...   \n1032       0.947368       0.947368           0           1           0   \n1033       0.960526       0.960526           1           0           0   \n1034       0.973684       0.973684           0           1           0   \n1035       0.986842       0.986842           0           1           0   \n1036       1.000000       1.000000           1           0           0   \n\n      Sequence_U  BS  \n961            0   0  \n962            0   0  \n963            0   0  \n964            0   0  \n965            0   0  \n...          ...  ..  \n1032           0   0  \n1033           0   0  \n1034           0   0  \n1035           0   0  \n1036           0   0  \n\n[76 rows x 32 columns]"
     },
     "execution_count": 10,
     "metadata": {},
     "output_type": "execute_result"
    }
   ],
   "source": [
    "df_complete[df_complete['NO']==27]"
   ]
  },
  {
   "cell_type": "code",
   "execution_count": null,
   "metadata": {},
   "outputs": [],
   "source": [
    "example_num = df_all.shape[0] # 记录数据集中的样例数目\n",
    "\n",
    "# 记录各个样例的新指标，最终应为4个长度为example_num的向量\n",
    "A_occurence = [] \n",
    "C_occurence = []\n",
    "G_occurence = []\n",
    "U_occurence = []\n",
    "\n",
    "# 迭代地计算各个样例的新指标\n",
    "for i in range(example_num):\n",
    "    start_cur = int(df_all.iloc[i]['start']) # 取得当前样例的start特征\n",
    "    end_cur = int(df_all.iloc[i]['end']) # 取得当前样例的end特征\n",
    "    no_cur = int(df_all.iloc[i]['NO']) # 取得当前样例的NO特征\n",
    "    offset_cur = offset[no_cur-1] # 各个序列在完整数据集上的偏移量 e.g.Name为’1AJU'的序列的第一个样例在完整数据集上的偏移量为0\n",
    "    # 当前样例的各项新指标的计数器\n",
    "    A_cnt = 0 \n",
    "    C_cnt = 0\n",
    "    G_cnt = 0\n",
    "    U_cnt = 0\n",
    "    # 在序列内根据当前样例的start和end所确定的范围内，迭代地对A/C/G/U的出现次数进行计数\n",
    "    for j in range(offset_cur+start_cur, offset_cur+end_cur+1):\n",
    "        #calculate occurence of A/C/G/U\n",
    "        # print(j)\n",
    "        if(df_all.iloc[j]['Sequence']=='A'):\n",
    "            A_cnt += 1\n",
    "        elif(df_all.iloc[j]['Sequence']=='C'):\n",
    "            C_cnt += 1\n",
    "        elif(df_all.iloc[j]['Sequence']=='G'):\n",
    "            G_cnt += 1   \n",
    "        elif(df_all.iloc[j]['Sequence']=='U'):\n",
    "            U_cnt += 1   \n",
    "    A_occurence.append(A_cnt)\n",
    "    C_occurence.append(C_cnt)\n",
    "    G_occurence.append(G_cnt)\n",
    "    U_occurence.append(U_cnt)"
   ]
  }
 ]
}