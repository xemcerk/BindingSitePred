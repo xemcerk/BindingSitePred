{
 "nbformat": 4,
 "nbformat_minor": 2,
 "metadata": {
  "language_info": {
   "name": "python",
   "codemirror_mode": {
    "name": "ipython",
    "version": 3
   },
   "version": "3.7.5"
  },
  "orig_nbformat": 2,
  "file_extension": ".py",
  "mimetype": "text/x-python",
  "name": "python",
  "npconvert_exporter": "python",
  "pygments_lexer": "ipython3",
  "version": 3
 },
 "cells": [
  {
   "cell_type": "code",
   "execution_count": 17,
   "metadata": {},
   "outputs": [],
   "source": [
    "import pandas as pd\n",
    "import numpy as np\n",
    "from sklearn.model_selection import train_test_split\n",
    "from sklearn.metrics import accuracy_score"
   ]
  },
  {
   "cell_type": "code",
   "execution_count": 18,
   "metadata": {},
   "outputs": [],
   "source": [
    "df_all = pd.read_excel('data.xlsx')\n",
    "col2drop = ['NO','Name','SequenceAmount','Sequence','Sites Number','Binding Sites']\n",
    "X = df_all.drop(col2drop,axis=1)\n",
    "y = df_all['Binding Sites']  \n",
    "# X.head()"
   ]
  },
  {
   "cell_type": "code",
   "execution_count": 19,
   "metadata": {},
   "outputs": [],
   "source": [
    "X_train, X_test, y_train, y_test = train_test_split(X, y, test_size=0.33, random_state=42)"
   ]
  },
  {
   "cell_type": "code",
   "execution_count": 20,
   "metadata": {},
   "outputs": [],
   "source": [
    "X_train_isbs = X_train.loc[y_train == 1]\n",
    "X_train_notbs = X_train.loc[y_train == 0]\n",
    "# X_train_isbs.head()"
   ]
  },
  {
   "cell_type": "code",
   "execution_count": 21,
   "metadata": {},
   "outputs": [],
   "source": [
    "miu_isbs = X_train_isbs.describe().loc['mean']\n",
    "miu_notbs = X_train_notbs.describe().loc['mean']\n",
    "# miu_isbs"
   ]
  },
  {
   "cell_type": "code",
   "execution_count": 22,
   "metadata": {},
   "outputs": [],
   "source": [
    "sum_isbs = np.zeros([16,16])\n",
    "p_train_isbs = X_train_isbs.shape[0]\n",
    "for i in range(16):\n",
    "    for j in range(16):\n",
    "        ti = X_train_isbs.iloc[:,i].to_numpy()\n",
    "        miui = np.full((p_train_isbs),miu_isbs.iat[i])\n",
    "        tj = X_train_isbs.iloc[:,j].to_numpy()\n",
    "        miuj = np.full((p_train_isbs),miu_isbs.iat[j])\n",
    "        sum_isbs[i][j] = np.mean((ti - miui)*(tj - miuj))\n",
    "# sum_isbs"
   ]
  },
  {
   "cell_type": "code",
   "execution_count": 23,
   "metadata": {},
   "outputs": [],
   "source": [
    "sum_notbs = np.zeros([16,16])\n",
    "p_train_notbs = X_train_notbs.shape[0]\n",
    "for i in range(16):\n",
    "    for j in range(16):\n",
    "        ti = X_train_notbs.iloc[:,i].to_numpy()\n",
    "        miui = np.full((p_train_notbs),miu_notbs.iat[i])\n",
    "        tj = X_train_notbs.iloc[:,j].to_numpy()\n",
    "        miuj = np.full((p_train_notbs),miu_notbs.iat[j])\n",
    "        sum_notbs[i][j] = np.mean((ti - miui)*(tj - miuj))\n",
    "# sum_notbs"
   ]
  },
  {
   "cell_type": "code",
   "execution_count": 24,
   "metadata": {},
   "outputs": [],
   "source": [
    "delta_isbs = []\n",
    "p_test = X_test.shape[0]\n",
    "for i in range(p_test):\n",
    "    tmp = (X_test.iloc[i] - miu_isbs).to_numpy()\n",
    "    tmp_t = np.transpose(tmp)\n",
    "    sum_isbs_inv = np.linalg.inv(sum_isbs)\n",
    "    delta_isbs.append(tmp_t.dot(sum_isbs_inv).dot(tmp))\n",
    "# len(delta_isbs)\n",
    "\n"
   ]
  },
  {
   "cell_type": "code",
   "execution_count": 25,
   "metadata": {},
   "outputs": [],
   "source": [
    "delta_notbs = []\n",
    "for i in range(p_test):\n",
    "    tmp = (X_test.iloc[i] - miu_notbs).to_numpy()\n",
    "    tmp_t = np.transpose(tmp)\n",
    "    sum_notbs_inv = np.linalg.inv(sum_notbs)\n",
    "    delta_notbs.append(tmp_t.dot(sum_notbs_inv).dot(tmp))\n",
    "# len(delta_notbs)"
   ]
  },
  {
   "cell_type": "code",
   "execution_count": 26,
   "metadata": {},
   "outputs": [],
   "source": [
    "def sigmoid_pos(x):\n",
    "    s = 1 / (1 + np.exp(-x)) + 1\n",
    "    return s"
   ]
  },
  {
   "cell_type": "code",
   "execution_count": 27,
   "metadata": {},
   "outputs": [],
   "source": [
    "lnp_train_isbs = np.full((p_test),sigmoid_pos(p_train_isbs))\n",
    "lnsum_isbs_det = np.full((p_test),sigmoid_pos(np.linalg.det(sum_isbs)))\n",
    "delta_isbs = np.array(delta_isbs)\n",
    "eta_isbs = lnp_train_isbs - delta_isbs/2 - lnsum_isbs_det/2\n",
    "# len(eta_isbs)"
   ]
  },
  {
   "cell_type": "code",
   "execution_count": 28,
   "metadata": {},
   "outputs": [],
   "source": [
    "lnp_train_notbs = np.full((p_test),sigmoid_pos(p_train_notbs))\n",
    "lnsum_notbs_det = np.full((p_test),sigmoid_pos(np.linalg.det(sum_notbs)))\n",
    "delta_notbs = np.array(delta_notbs)\n",
    "eta_notbs = lnp_train_notbs - delta_notbs/2 - lnsum_notbs_det/2\n",
    "# len(eta_notbs)"
   ]
  },
  {
   "cell_type": "code",
   "execution_count": 29,
   "metadata": {},
   "outputs": [],
   "source": [
    "y_pred = eta_isbs > eta_notbs\n",
    "# y_pred"
   ]
  },
  {
   "cell_type": "code",
   "execution_count": 30,
   "metadata": {},
   "outputs": [
    {
     "data": {
      "text/plain": "0.5471246006389776"
     },
     "execution_count": 30,
     "metadata": {},
     "output_type": "execute_result"
    }
   ],
   "source": [
    "accuracy_score(y_test, y_pred)"
   ]
  }
 ]
}