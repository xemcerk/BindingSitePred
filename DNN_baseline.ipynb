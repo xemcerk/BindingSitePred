{
 "cells": [
  {
   "cell_type": "code",
   "execution_count": 72,
   "metadata": {},
   "outputs": [],
   "source": [
    "from keras.models import Sequential\n",
    "from keras.layers import Dense, Dropout\n",
    "import pandas as pd\n",
    "import numpy as np\n",
    "from sklearn.model_selection import train_test_split\n",
    "from keras.utils import to_categorical\n",
    "import matplotlib.pyplot as plt"
   ]
  },
  {
   "cell_type": "code",
   "execution_count": 73,
   "metadata": {},
   "outputs": [],
   "source": [
    "df_all = pd.read_excel('data.xlsx')\n",
    "df_all.head()\n",
    "col2drop = ['NO','Name','SequenceAmount','Sequence','Sites Number','Binding Sites']\n",
    "y = df_all['Binding Sites']\n",
    "X = df_all.drop(col2drop,axis=1)\n",
    "X_train, X_test, y_train, y_test = train_test_split(X, y, test_size=0.33, random_state=42)"
   ]
  },
  {
   "cell_type": "code",
   "execution_count": 74,
   "metadata": {},
   "outputs": [],
   "source": [
    "model = Sequential()\n",
    "\n",
    "model.add(Dense(units=64, activation='relu', input_dim=16))\n",
    "# model.add(Dropout(0.5))\n",
    "model.add(Dense(128,activation='relu'))\n",
    "# model.add(Dropout(0.5))\n",
    "model.add(Dense(1, activation='sigmoid'))"
   ]
  },
  {
   "cell_type": "code",
   "execution_count": 75,
   "metadata": {},
   "outputs": [],
   "source": [
    "model.compile(loss='binary_crossentropy',\n",
    "              optimizer='rmsprop',\n",
    "              metrics=['accuracy'])"
   ]
  },
  {
   "cell_type": "code",
   "execution_count": 76,
   "metadata": {},
   "outputs": [
    {
     "name": "stdout",
     "output_type": "stream",
     "text": [
      "Epoch 1/100\n",
      "2539/2539 [==============================] - 2s 833us/step - loss: 0.9389 - acc: 0.6132\n",
      "Epoch 2/100\n",
      "2539/2539 [==============================] - 1s 307us/step - loss: 0.8042 - acc: 0.6124\n",
      "Epoch 3/100\n",
      "2539/2539 [==============================] - 1s 299us/step - loss: 0.7726 - acc: 0.6105\n",
      "Epoch 4/100\n",
      "2539/2539 [==============================] - 1s 287us/step - loss: 0.7717 - acc: 0.6006\n",
      "Epoch 5/100\n",
      "2539/2539 [==============================] - 1s 277us/step - loss: 0.7482 - acc: 0.6136\n",
      "Epoch 6/100\n",
      "2539/2539 [==============================] - 1s 307us/step - loss: 0.7503 - acc: 0.6211\n",
      "Epoch 7/100\n",
      "2539/2539 [==============================] - 1s 304us/step - loss: 0.7357 - acc: 0.6184\n",
      "Epoch 8/100\n",
      "2539/2539 [==============================] - 1s 267us/step - loss: 0.7346 - acc: 0.6176\n",
      "Epoch 9/100\n",
      "2539/2539 [==============================] - 1s 260us/step - loss: 0.7119 - acc: 0.6278\n",
      "Epoch 10/100\n",
      "2539/2539 [==============================] - 1s 271us/step - loss: 0.7107 - acc: 0.6274\n",
      "Epoch 11/100\n",
      "2539/2539 [==============================] - 1s 263us/step - loss: 0.7241 - acc: 0.6270\n",
      "Epoch 12/100\n",
      "2539/2539 [==============================] - 1s 314us/step - loss: 0.6890 - acc: 0.6357\n",
      "Epoch 13/100\n",
      "2539/2539 [==============================] - 1s 283us/step - loss: 0.7078 - acc: 0.6262\n",
      "Epoch 14/100\n",
      "2539/2539 [==============================] - 1s 254us/step - loss: 0.7045 - acc: 0.6128\n",
      "Epoch 15/100\n",
      "2539/2539 [==============================] - 1s 317us/step - loss: 0.6827 - acc: 0.6298\n",
      "Epoch 16/100\n",
      "2539/2539 [==============================] - 1s 291us/step - loss: 0.6881 - acc: 0.6325\n",
      "Epoch 17/100\n",
      "2539/2539 [==============================] - 1s 240us/step - loss: 0.7008 - acc: 0.6333\n",
      "Epoch 18/100\n",
      "2539/2539 [==============================] - 1s 279us/step - loss: 0.6996 - acc: 0.6357\n",
      "Epoch 19/100\n",
      "2539/2539 [==============================] - 1s 315us/step - loss: 0.7115 - acc: 0.6243\n",
      "Epoch 20/100\n",
      "2539/2539 [==============================] - 1s 307us/step - loss: 0.6826 - acc: 0.6361\n",
      "Epoch 21/100\n",
      "2539/2539 [==============================] - 1s 253us/step - loss: 0.6990 - acc: 0.6388\n",
      "Epoch 22/100\n",
      "2539/2539 [==============================] - 1s 259us/step - loss: 0.7222 - acc: 0.6223\n",
      "Epoch 23/100\n",
      "2539/2539 [==============================] - 1s 264us/step - loss: 0.7286 - acc: 0.6243\n",
      "Epoch 24/100\n",
      "2539/2539 [==============================] - 1s 252us/step - loss: 0.7412 - acc: 0.6203\n",
      "Epoch 25/100\n",
      "2539/2539 [==============================] - 1s 267us/step - loss: 0.7380 - acc: 0.6164\n",
      "Epoch 26/100\n",
      "2539/2539 [==============================] - 1s 277us/step - loss: 0.7532 - acc: 0.6250\n",
      "Epoch 27/100\n",
      "2539/2539 [==============================] - 1s 284us/step - loss: 0.7743 - acc: 0.6156\n",
      "Epoch 28/100\n",
      "2539/2539 [==============================] - 1s 286us/step - loss: 0.7848 - acc: 0.6195\n",
      "Epoch 29/100\n",
      "2539/2539 [==============================] - 1s 247us/step - loss: 0.8330 - acc: 0.6176\n",
      "Epoch 30/100\n",
      "2539/2539 [==============================] - 1s 295us/step - loss: 0.8461 - acc: 0.6247\n",
      "Epoch 31/100\n",
      "2539/2539 [==============================] - 1s 270us/step - loss: 0.8946 - acc: 0.6290\n",
      "Epoch 32/100\n",
      "2539/2539 [==============================] - 1s 297us/step - loss: 1.0200 - acc: 0.6136\n",
      "Epoch 33/100\n",
      "2539/2539 [==============================] - 1s 267us/step - loss: 1.0435 - acc: 0.6042\n",
      "Epoch 34/100\n",
      "2539/2539 [==============================] - 1s 282us/step - loss: 1.1404 - acc: 0.6026\n",
      "Epoch 35/100\n",
      "2539/2539 [==============================] - 1s 255us/step - loss: 1.2899 - acc: 0.6069\n",
      "Epoch 36/100\n",
      "2539/2539 [==============================] - 1s 278us/step - loss: 1.3862 - acc: 0.5931\n",
      "Epoch 37/100\n",
      "2539/2539 [==============================] - 1s 270us/step - loss: 1.6409 - acc: 0.6022\n",
      "Epoch 38/100\n",
      "2539/2539 [==============================] - 1s 271us/step - loss: 1.8354 - acc: 0.6140\n",
      "Epoch 39/100\n",
      "2539/2539 [==============================] - 1s 254us/step - loss: 2.0886 - acc: 0.6069\n",
      "Epoch 40/100\n",
      "2539/2539 [==============================] - 1s 273us/step - loss: 2.6592 - acc: 0.6065\n",
      "Epoch 41/100\n",
      "2539/2539 [==============================] - 1s 297us/step - loss: 2.7872 - acc: 0.6026\n",
      "Epoch 42/100\n",
      "2539/2539 [==============================] - 1s 286us/step - loss: 2.9662 - acc: 0.5975\n",
      "Epoch 43/100\n",
      "2539/2539 [==============================] - 1s 263us/step - loss: 3.1053 - acc: 0.6191\n",
      "Epoch 44/100\n",
      "2539/2539 [==============================] - 1s 259us/step - loss: 3.1853 - acc: 0.6164\n",
      "Epoch 45/100\n",
      "2539/2539 [==============================] - 1s 291us/step - loss: 3.3984 - acc: 0.6038\n",
      "Epoch 46/100\n",
      "2539/2539 [==============================] - 1s 274us/step - loss: 3.2143 - acc: 0.6093\n",
      "Epoch 47/100\n",
      "2539/2539 [==============================] - 1s 284us/step - loss: 3.4657 - acc: 0.6250\n",
      "Epoch 48/100\n",
      "2539/2539 [==============================] - 1s 277us/step - loss: 3.7223 - acc: 0.6089\n",
      "Epoch 49/100\n",
      "2539/2539 [==============================] - 1s 267us/step - loss: 3.5070 - acc: 0.6227\n",
      "Epoch 50/100\n",
      "2539/2539 [==============================] - 1s 281us/step - loss: 3.7102 - acc: 0.6184\n",
      "Epoch 51/100\n",
      "2539/2539 [==============================] - 1s 254us/step - loss: 3.9790 - acc: 0.6247\n",
      "Epoch 52/100\n",
      "2539/2539 [==============================] - 1s 274us/step - loss: 3.7314 - acc: 0.6408\n",
      "Epoch 53/100\n",
      "2539/2539 [==============================] - 1s 297us/step - loss: 3.7922 - acc: 0.6124\n",
      "Epoch 54/100\n",
      "2539/2539 [==============================] - 1s 255us/step - loss: 3.8485 - acc: 0.6211\n",
      "Epoch 55/100\n",
      "2539/2539 [==============================] - 1s 276us/step - loss: 3.5845 - acc: 0.6522\n",
      "Epoch 56/100\n",
      "2539/2539 [==============================] - 1s 295us/step - loss: 4.4626 - acc: 0.5908\n",
      "Epoch 57/100\n",
      "2539/2539 [==============================] - 1s 264us/step - loss: 3.6082 - acc: 0.6432\n",
      "Epoch 58/100\n",
      "2539/2539 [==============================] - 1s 385us/step - loss: 3.7396 - acc: 0.6207\n",
      "Epoch 59/100\n",
      "2539/2539 [==============================] - 1s 398us/step - loss: 3.6386 - acc: 0.6428\n",
      "Epoch 60/100\n",
      "2539/2539 [==============================] - 1s 407us/step - loss: 3.8001 - acc: 0.6223\n",
      "Epoch 61/100\n",
      "2539/2539 [==============================] - 1s 377us/step - loss: 4.0813 - acc: 0.6014\n",
      "Epoch 62/100\n",
      "2539/2539 [==============================] - 1s 244us/step - loss: 3.7735 - acc: 0.6341\n",
      "Epoch 63/100\n",
      "2539/2539 [==============================] - 1s 272us/step - loss: 3.7333 - acc: 0.6365\n",
      "Epoch 64/100\n",
      "2539/2539 [==============================] - 1s 280us/step - loss: 4.2586 - acc: 0.5931\n",
      "Epoch 65/100\n",
      "2539/2539 [==============================] - 1s 276us/step - loss: 3.7964 - acc: 0.6388\n",
      "Epoch 66/100\n",
      "2539/2539 [==============================] - 1s 270us/step - loss: 3.8081 - acc: 0.6349\n",
      "Epoch 67/100\n",
      "2539/2539 [==============================] - 1s 246us/step - loss: 4.2430 - acc: 0.6006\n",
      "Epoch 68/100\n",
      "2539/2539 [==============================] - 1s 254us/step - loss: 3.6596 - acc: 0.6349\n",
      "Epoch 69/100\n",
      "2539/2539 [==============================] - 1s 254us/step - loss: 3.7043 - acc: 0.6380\n",
      "Epoch 70/100\n",
      "2539/2539 [==============================] - 1s 287us/step - loss: 4.0193 - acc: 0.6294\n",
      "Epoch 71/100\n",
      "2539/2539 [==============================] - 1s 256us/step - loss: 3.9231 - acc: 0.6329\n",
      "Epoch 72/100\n",
      "2539/2539 [==============================] - 1s 284us/step - loss: 3.7248 - acc: 0.6412\n",
      "Epoch 73/100\n",
      "2539/2539 [==============================] - 1s 287us/step - loss: 3.6917 - acc: 0.6353\n",
      "Epoch 74/100\n",
      "2539/2539 [==============================] - 1s 269us/step - loss: 3.8211 - acc: 0.6443\n",
      "Epoch 75/100\n",
      "2539/2539 [==============================] - 1s 242us/step - loss: 4.0046 - acc: 0.6294\n",
      "Epoch 76/100\n",
      "2539/2539 [==============================] - 1s 286us/step - loss: 3.9908 - acc: 0.6471\n",
      "Epoch 77/100\n",
      "2539/2539 [==============================] - 1s 275us/step - loss: 3.6827 - acc: 0.6636\n",
      "Epoch 78/100\n",
      "2539/2539 [==============================] - 1s 238us/step - loss: 3.6891 - acc: 0.6570\n",
      "Epoch 79/100\n",
      "2539/2539 [==============================] - 1s 256us/step - loss: 3.9299 - acc: 0.6510\n",
      "Epoch 80/100\n",
      "2539/2539 [==============================] - 1s 281us/step - loss: 3.9139 - acc: 0.6337\n",
      "Epoch 81/100\n",
      "2539/2539 [==============================] - 1s 295us/step - loss: 3.8873 - acc: 0.6416\n",
      "Epoch 82/100\n"
     ]
    },
    {
     "name": "stdout",
     "output_type": "stream",
     "text": [
      "2539/2539 [==============================] - 1s 275us/step - loss: 3.7665 - acc: 0.6518\n",
      "Epoch 83/100\n",
      "2539/2539 [==============================] - 1s 272us/step - loss: 4.0680 - acc: 0.6203\n",
      "Epoch 84/100\n",
      "2539/2539 [==============================] - 1s 291us/step - loss: 4.6182 - acc: 0.6038\n",
      "Epoch 85/100\n",
      "2539/2539 [==============================] - 1s 270us/step - loss: 3.8673 - acc: 0.6522\n",
      "Epoch 86/100\n",
      "2539/2539 [==============================] - 1s 261us/step - loss: 3.7414 - acc: 0.6522\n",
      "Epoch 87/100\n",
      "2539/2539 [==============================] - 1s 264us/step - loss: 3.7004 - acc: 0.6625\n",
      "Epoch 88/100\n",
      "2539/2539 [==============================] - 1s 269us/step - loss: 3.8934 - acc: 0.6479\n",
      "Epoch 89/100\n",
      "2539/2539 [==============================] - 1s 276us/step - loss: 4.1194 - acc: 0.6227\n",
      "Epoch 90/100\n",
      "2539/2539 [==============================] - 1s 298us/step - loss: 3.7960 - acc: 0.6428\n",
      "Epoch 91/100\n",
      "2539/2539 [==============================] - 1s 268us/step - loss: 4.6332 - acc: 0.6030\n",
      "Epoch 92/100\n",
      "2539/2539 [==============================] - 1s 286us/step - loss: 5.3205 - acc: 0.5553\n",
      "Epoch 93/100\n",
      "2539/2539 [==============================] - 1s 278us/step - loss: 4.5246 - acc: 0.6026\n",
      "Epoch 94/100\n",
      "2539/2539 [==============================] - 1s 286us/step - loss: 5.5068 - acc: 0.5518\n",
      "Epoch 95/100\n",
      "2539/2539 [==============================] - 1s 286us/step - loss: 3.7382 - acc: 0.6668\n",
      "Epoch 96/100\n",
      "2539/2539 [==============================] - 1s 264us/step - loss: 3.9768 - acc: 0.6475\n",
      "Epoch 97/100\n",
      "2539/2539 [==============================] - 1s 276us/step - loss: 4.4796 - acc: 0.6227\n",
      "Epoch 98/100\n",
      "2539/2539 [==============================] - 1s 268us/step - loss: 4.0022 - acc: 0.6479\n",
      "Epoch 99/100\n",
      "2539/2539 [==============================] - 1s 289us/step - loss: 6.3066 - acc: 0.4959\n",
      "Epoch 100/100\n",
      "2539/2539 [==============================] - 1s 271us/step - loss: 6.8354 - acc: 0.4781\n"
     ]
    }
   ],
   "source": [
    "history = model.fit(X_train, y_train, epochs=100, batch_size=32)"
   ]
  },
  {
   "cell_type": "code",
   "execution_count": 79,
   "metadata": {},
   "outputs": [
    {
     "data": {
      "image/png": "[encoded data removed]",
      "text/plain": [
       "<Figure size 432x288 with 1 Axes>"
      ]
     },
     "metadata": {
      "needs_background": "light"
     },
     "output_type": "display_data"
    }
   ],
   "source": [
    "plt.plot(history.history['loss'])\n",
    "# plt.plot(history.history['val_loss'])\n",
    "plt.title('Model loss')\n",
    "plt.ylabel('Loss')\n",
    "plt.xlabel('Epoch')\n",
    "# plt.legend(['Train', 'Test'], loc='upper left')\n",
    "plt.show()"
   ]
  },
  {
   "cell_type": "code",
   "execution_count": 78,
   "metadata": {},
   "outputs": [
    {
     "data": {
      "image/png": "[encoded data removed]",
      "text/plain": [
       "<Figure size 432x288 with 1 Axes>"
      ]
     },
     "metadata": {
      "needs_background": "light"
     },
     "output_type": "display_data"
    }
   ],
   "source": [
    "plt.plot(history.history['acc'])\n",
    "# plt.plot(history.history['val_acc'])\n",
    "plt.title('Model accuracy')\n",
    "plt.ylabel('Accuracy')\n",
    "plt.xlabel('Epoch')\n",
    "# plt.legend(['Train', 'Test'], loc='upper left')\n",
    "plt.show()"
   ]
  },
  {
   "cell_type": "code",
   "execution_count": 80,
   "metadata": {},
   "outputs": [
    {
     "name": "stdout",
     "output_type": "stream",
     "text": [
      "1252/1252 [==============================] - 0s 252us/step\n"
     ]
    },
    {
     "data": {
      "text/plain": [
       "[3.6305751434911175, 0.6765175726467048]"
      ]
     },
     "execution_count": 80,
     "metadata": {},
     "output_type": "execute_result"
    }
   ],
   "source": [
    "score = model.evaluate(X_test, y_test, batch_size=128)\n",
    "score"
   ]
  }
 ],
 "metadata": {
  "kernelspec": {
   "display_name": "Python 3",
   "language": "python",
   "name": "python3"
  },
  "language_info": {
   "codemirror_mode": {
    "name": "ipython",
    "version": 3
   },
   "file_extension": ".py",
   "mimetype": "text/x-python",
   "name": "python",
   "nbconvert_exporter": "python",
   "pygments_lexer": "ipython3",
   "version": "3.7.5"
  }
 },
 "nbformat": 4,
 "nbformat_minor": 2
}
