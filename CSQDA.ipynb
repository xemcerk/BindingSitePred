{
 "nbformat": 4,
 "nbformat_minor": 2,
 "metadata": {
  "language_info": {
   "name": "python",
   "codemirror_mode": {
    "name": "ipython",
    "version": 3
   },
   "version": "3.7.5"
  },
  "orig_nbformat": 2,
  "file_extension": ".py",
  "mimetype": "text/x-python",
  "name": "python",
  "npconvert_exporter": "python",
  "pygments_lexer": "ipython3",
  "version": 3
 },
 "cells": [
  {
   "cell_type": "code",
   "execution_count": 1,
   "metadata": {},
   "outputs": [],
   "source": [
    "import pandas as pd\n",
    "import numpy as np\n",
    "from sklearn.model_selection import train_test_split\n",
    "from sklearn.metrics import accuracy_score\n",
    "from sklearn.preprocessing import normalize"
   ]
  },
  {
   "cell_type": "code",
   "execution_count": 2,
   "metadata": {},
   "outputs": [],
   "source": [
    "df_all = pd.read_excel('data.xlsx')\n",
    "col2drop = ['NO','Name','SequenceAmount','Sequence','Sites Number','Binding Sites']\n",
    "X = df_all.drop(col2drop,axis=1)\n",
    "y = df_all['Binding Sites']  \n",
    "# X.head()"
   ]
  },
  {
   "cell_type": "code",
   "execution_count": 3,
   "metadata": {},
   "outputs": [
    {
     "data": {
      "text/html": "<div>\n<style scoped>\n    .dataframe tbody tr th:only-of-type {\n        vertical-align: middle;\n    }\n\n    .dataframe tbody tr th {\n        vertical-align: top;\n    }\n\n    .dataframe thead th {\n        text-align: right;\n    }\n</style>\n<table border=\"1\" class=\"dataframe\">\n  <thead>\n    <tr style=\"text-align: right;\">\n      <th></th>\n      <th>v1*seqloc</th>\n      <th>v2*seqloc</th>\n      <th>v3*seqloc</th>\n      <th>v4*seqloc</th>\n      <th>cb*seqloc</th>\n      <th>cp(rs)*loc</th>\n      <th>cp(hb)*loc</th>\n      <th>cp(fg)*loc</th>\n      <th>v1*energyloc</th>\n      <th>v2*energyloc</th>\n      <th>v3*energyloc</th>\n      <th>v4*energyloc</th>\n      <th>cp(rs)*energyloc</th>\n      <th>cp(hb)*energyloc</th>\n      <th>cp(fg)*energyloc</th>\n      <th>cb*energyloc</th>\n    </tr>\n  </thead>\n  <tbody>\n    <tr>\n      <th>0</th>\n      <td>0.055721</td>\n      <td>0.676584</td>\n      <td>0.000000</td>\n      <td>-0.131766</td>\n      <td>0.065883</td>\n      <td>0.021961</td>\n      <td>0.000000</td>\n      <td>0.000000</td>\n      <td>0.057642</td>\n      <td>0.699914</td>\n      <td>0.000000</td>\n      <td>-0.136310</td>\n      <td>0.022718</td>\n      <td>0.000000</td>\n      <td>0.000000</td>\n      <td>0.068155</td>\n    </tr>\n    <tr>\n      <th>1</th>\n      <td>0.055721</td>\n      <td>0.676584</td>\n      <td>0.000000</td>\n      <td>-0.131766</td>\n      <td>0.065883</td>\n      <td>0.021961</td>\n      <td>0.000000</td>\n      <td>0.000000</td>\n      <td>0.057642</td>\n      <td>0.699914</td>\n      <td>0.000000</td>\n      <td>-0.136310</td>\n      <td>0.022718</td>\n      <td>0.000000</td>\n      <td>0.000000</td>\n      <td>0.068155</td>\n    </tr>\n    <tr>\n      <th>2</th>\n      <td>0.028761</td>\n      <td>0.484852</td>\n      <td>0.496547</td>\n      <td>-0.016483</td>\n      <td>0.015405</td>\n      <td>0.005135</td>\n      <td>0.005135</td>\n      <td>0.005135</td>\n      <td>0.029753</td>\n      <td>0.501572</td>\n      <td>0.513669</td>\n      <td>-0.017051</td>\n      <td>0.005312</td>\n      <td>0.005312</td>\n      <td>0.005312</td>\n      <td>0.015936</td>\n    </tr>\n    <tr>\n      <th>3</th>\n      <td>0.028761</td>\n      <td>0.484852</td>\n      <td>0.496547</td>\n      <td>-0.016483</td>\n      <td>0.015405</td>\n      <td>0.005135</td>\n      <td>0.005135</td>\n      <td>0.005135</td>\n      <td>0.029753</td>\n      <td>0.501572</td>\n      <td>0.513669</td>\n      <td>-0.017051</td>\n      <td>0.005312</td>\n      <td>0.005312</td>\n      <td>0.005312</td>\n      <td>0.015936</td>\n    </tr>\n    <tr>\n      <th>4</th>\n      <td>0.019112</td>\n      <td>0.340836</td>\n      <td>0.605266</td>\n      <td>-0.009948</td>\n      <td>0.006545</td>\n      <td>0.003272</td>\n      <td>0.003272</td>\n      <td>0.003272</td>\n      <td>0.019772</td>\n      <td>0.352589</td>\n      <td>0.626138</td>\n      <td>-0.010291</td>\n      <td>0.003385</td>\n      <td>0.003385</td>\n      <td>0.003385</td>\n      <td>0.006771</td>\n    </tr>\n  </tbody>\n</table>\n</div>",
      "text/plain": "   v1*seqloc  v2*seqloc  v3*seqloc  v4*seqloc  cb*seqloc  cp(rs)*loc  \\\n0   0.055721   0.676584   0.000000  -0.131766   0.065883    0.021961   \n1   0.055721   0.676584   0.000000  -0.131766   0.065883    0.021961   \n2   0.028761   0.484852   0.496547  -0.016483   0.015405    0.005135   \n3   0.028761   0.484852   0.496547  -0.016483   0.015405    0.005135   \n4   0.019112   0.340836   0.605266  -0.009948   0.006545    0.003272   \n\n   cp(hb)*loc  cp(fg)*loc  v1*energyloc  v2*energyloc  v3*energyloc  \\\n0    0.000000    0.000000      0.057642      0.699914      0.000000   \n1    0.000000    0.000000      0.057642      0.699914      0.000000   \n2    0.005135    0.005135      0.029753      0.501572      0.513669   \n3    0.005135    0.005135      0.029753      0.501572      0.513669   \n4    0.003272    0.003272      0.019772      0.352589      0.626138   \n\n   v4*energyloc  cp(rs)*energyloc  cp(hb)*energyloc  cp(fg)*energyloc  \\\n0     -0.136310          0.022718          0.000000          0.000000   \n1     -0.136310          0.022718          0.000000          0.000000   \n2     -0.017051          0.005312          0.005312          0.005312   \n3     -0.017051          0.005312          0.005312          0.005312   \n4     -0.010291          0.003385          0.003385          0.003385   \n\n   cb*energyloc  \n0      0.068155  \n1      0.068155  \n2      0.015936  \n3      0.015936  \n4      0.006771  "
     },
     "execution_count": 3,
     "metadata": {},
     "output_type": "execute_result"
    }
   ],
   "source": [
    "#data normalization\n",
    "names = X.columns\n",
    "X = normalize(X, norm='l2')\n",
    "X = pd.DataFrame(X, columns=names)\n",
    "X.head()"
   ]
  },
  {
   "cell_type": "code",
   "execution_count": 4,
   "metadata": {},
   "outputs": [],
   "source": [
    "X_train, X_test, y_train, y_test = train_test_split(X, y, test_size=0.33, random_state=42)"
   ]
  },
  {
   "cell_type": "code",
   "execution_count": 5,
   "metadata": {},
   "outputs": [],
   "source": [
    "X_train_isbs = X_train.loc[y_train == 1]\n",
    "X_train_notbs = X_train.loc[y_train == 0]\n",
    "# X_train_isbs.head()"
   ]
  },
  {
   "cell_type": "code",
   "execution_count": 6,
   "metadata": {},
   "outputs": [],
   "source": [
    "miu_isbs = X_train_isbs.describe().loc['mean']\n",
    "miu_notbs = X_train_notbs.describe().loc['mean']\n",
    "# miu_isbs"
   ]
  },
  {
   "cell_type": "code",
   "execution_count": 7,
   "metadata": {},
   "outputs": [],
   "source": [
    "sum_isbs = np.zeros([16,16])\n",
    "p_train_isbs = X_train_isbs.shape[0]\n",
    "for i in range(16):\n",
    "    for j in range(16):\n",
    "        ti = X_train_isbs.iloc[:,i].to_numpy()\n",
    "        miui = np.full((p_train_isbs),miu_isbs.iat[i])\n",
    "        tj = X_train_isbs.iloc[:,j].to_numpy()\n",
    "        miuj = np.full((p_train_isbs),miu_isbs.iat[j])\n",
    "        sum_isbs[i][j] = np.mean((ti - miui)*(tj - miuj))\n",
    "# sum_isbs"
   ]
  },
  {
   "cell_type": "code",
   "execution_count": 8,
   "metadata": {},
   "outputs": [],
   "source": [
    "sum_notbs = np.zeros([16,16])\n",
    "p_train_notbs = X_train_notbs.shape[0]\n",
    "for i in range(16):\n",
    "    for j in range(16):\n",
    "        ti = X_train_notbs.iloc[:,i].to_numpy()\n",
    "        miui = np.full((p_train_notbs),miu_notbs.iat[i])\n",
    "        tj = X_train_notbs.iloc[:,j].to_numpy()\n",
    "        miuj = np.full((p_train_notbs),miu_notbs.iat[j])\n",
    "        sum_notbs[i][j] = np.mean((ti - miui)*(tj - miuj))\n",
    "# sum_notbs"
   ]
  },
  {
   "cell_type": "code",
   "execution_count": 9,
   "metadata": {},
   "outputs": [],
   "source": [
    "delta_isbs = []\n",
    "p_test = X_test.shape[0]\n",
    "for i in range(p_test):\n",
    "    tmp = (X_test.iloc[i] - miu_isbs).to_numpy()\n",
    "    tmp_t = np.transpose(tmp)\n",
    "    sum_isbs_inv = np.linalg.inv(sum_isbs)\n",
    "    delta_isbs.append(tmp_t.dot(sum_isbs_inv).dot(tmp))\n",
    "# len(delta_isbs)\n",
    "\n"
   ]
  },
  {
   "cell_type": "code",
   "execution_count": 10,
   "metadata": {},
   "outputs": [],
   "source": [
    "delta_notbs = []\n",
    "for i in range(p_test):\n",
    "    tmp = (X_test.iloc[i] - miu_notbs).to_numpy()\n",
    "    tmp_t = np.transpose(tmp)\n",
    "    sum_notbs_inv = np.linalg.inv(sum_notbs)\n",
    "    delta_notbs.append(tmp_t.dot(sum_notbs_inv).dot(tmp))\n",
    "# len(delta_notbs)"
   ]
  },
  {
   "cell_type": "code",
   "execution_count": 11,
   "metadata": {},
   "outputs": [],
   "source": [
    "def sigmoid_pos(x):\n",
    "    s = 1 / (1 + np.exp(-x)) + 1\n",
    "    return s"
   ]
  },
  {
   "cell_type": "code",
   "execution_count": 12,
   "metadata": {},
   "outputs": [],
   "source": [
    "lnp_train_isbs = np.full((p_test),sigmoid_pos(p_train_isbs))\n",
    "lnsum_isbs_det = np.full((p_test),sigmoid_pos(np.linalg.det(sum_isbs)))\n",
    "delta_isbs = np.array(delta_isbs)\n",
    "eta_isbs = lnp_train_isbs - delta_isbs/2 - lnsum_isbs_det/2\n",
    "# len(eta_isbs)"
   ]
  },
  {
   "cell_type": "code",
   "execution_count": 13,
   "metadata": {},
   "outputs": [],
   "source": [
    "lnp_train_notbs = np.full((p_test),sigmoid_pos(p_train_notbs))\n",
    "lnsum_notbs_det = np.full((p_test),sigmoid_pos(np.linalg.det(sum_notbs)))\n",
    "delta_notbs = np.array(delta_notbs)\n",
    "eta_notbs = lnp_train_notbs - delta_notbs/2 - lnsum_notbs_det/2\n",
    "# len(eta_notbs)"
   ]
  },
  {
   "cell_type": "code",
   "execution_count": 14,
   "metadata": {},
   "outputs": [],
   "source": [
    "y_pred = eta_isbs > eta_notbs\n",
    "# y_pred"
   ]
  },
  {
   "cell_type": "code",
   "execution_count": 15,
   "metadata": {},
   "outputs": [
    {
     "data": {
      "text/plain": "0.512779552715655"
     },
     "execution_count": 15,
     "metadata": {},
     "output_type": "execute_result"
    }
   ],
   "source": [
    "accuracy_score(y_test, y_pred)"
   ]
  },
  {
   "cell_type": "code",
   "execution_count": null,
   "metadata": {},
   "outputs": [],
   "source": []
  }
 ]
}