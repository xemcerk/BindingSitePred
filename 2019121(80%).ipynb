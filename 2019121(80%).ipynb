{
 "cells": [
  {
   "cell_type": "code",
   "execution_count": 1,
   "metadata": {},
   "outputs": [
    {
     "name": "stderr",
     "output_type": "stream",
     "text": [
      "d:\\Anaconda3\\lib\\site-packages\\sklearn\\cross_validation.py:41: DeprecationWarning: This module was deprecated in version 0.18 in favor of the model_selection module into which all the refactored classes and functions are moved. Also note that the interface of the new CV iterators are different from that of this module. This module will be removed in 0.20.\n",
      "  \"This module will be removed in 0.20.\", DeprecationWarning)\n",
      "d:\\Anaconda3\\lib\\site-packages\\sklearn\\grid_search.py:42: DeprecationWarning: This module was deprecated in version 0.18 in favor of the model_selection module into which all the refactored classes and functions are moved. This module will be removed in 0.20.\n",
      "  DeprecationWarning)\n"
     ]
    }
   ],
   "source": [
    "import pandas as pd\n",
    "import numpy as np\n",
    "import xgboost as xgb\n",
    "from xgboost.sklearn import XGBClassifier\n",
    "from sklearn import cross_validation, metrics   #Additional scklearn functions\n",
    "from sklearn.grid_search import GridSearchCV   #Perforing grid search\n",
    "import matplotlib.pylab as plt\n",
    "%matplotlib inline\n",
    "from matplotlib.pylab import rcParams\n",
    "rcParams['figure.figsize'] = 12, 4\n",
    "from sklearn.cross_validation import train_test_split\n",
    "from sklearn.model_selection import StratifiedKFold\n",
    "from sklearn.model_selection import cross_val_score\n",
    "from sklearn.model_selection import KFold\n",
    "from sklearn.metrics import confusion_matrix \n",
    "from sklearn.metrics import recall_score # 召回率计算\n",
    "from sklearn.metrics import classification_report"
   ]
  },
  {
   "cell_type": "code",
   "execution_count": 43,
   "metadata": {},
   "outputs": [],
   "source": [
    "df = pd.read_excel('D:/data2.0.xlsx')"
   ]
  },
  {
   "cell_type": "code",
   "execution_count": 44,
   "metadata": {},
   "outputs": [
    {
     "data": {
      "image/png": "[encoded data removed]",
      "text/plain": [
       "<matplotlib.figure.Figure at 0x1f82d2bd5c0>"
      ]
     },
     "metadata": {},
     "output_type": "display_data"
    }
   ],
   "source": [
    "# 为确保绘制的饼图为圆形，需执行如下代码\n",
    "plt.axes(aspect = 'equal')\n",
    "# 统计位点是否为结合位点的频数\n",
    "counts = df.BS.value_counts()\n",
    "# 绘制饼图\n",
    "plt.pie(x = counts, # 绘图数据\n",
    "        labels=pd.Series(counts.index).map({0:'Nonbs',1:'bs'}), # 添加文字标签\n",
    "        autopct='%.2f%%' # 设置百分比的格式，这里保留一位小数\n",
    "       )\n",
    "# 显示图形\n",
    "plt.show()"
   ]
  },
  {
   "cell_type": "code",
   "execution_count": 48,
   "metadata": {},
   "outputs": [
    {
     "name": "stdout",
     "output_type": "stream",
     "text": [
      "0    0.643272\n",
      "1    0.356728\n",
      "Name: BS, dtype: float64\n",
      "1    0.5\n",
      "0    0.5\n",
      "dtype: float64\n"
     ]
    }
   ],
   "source": [
    "# 将数据拆分为训练集和测试集\n",
    "X = df.drop(['BS'], axis = 1)\n",
    "y = df.BS\n",
    "# 数据拆分\n",
    "X_train,X_test,y_train,y_test =train_test_split(X,y,test_size = 0.5, random_state = 1234)\n",
    "# 导入第三方包\n",
    "from imblearn.over_sampling import SMOTE\n",
    "\n",
    "# 运用SMOTE算法实现训练数据集的平衡\n",
    "over_samples = SMOTE(random_state=1234) \n",
    "over_samples_X,over_samples_y = over_samples.fit_sample(X_train, y_train)\n",
    "#over_samples_X, over_samples_y = over_samples.fit_sample(X_train.values,y_train.values.ravel())\n",
    "# 重抽样前的类别比例\n",
    "print(y_train.value_counts()/len(y_train))\n",
    "# 重抽样后的类别比例\n",
    "print(pd.Series(over_samples_y).value_counts()/len(over_samples_y))"
   ]
  },
  {
   "cell_type": "code",
   "execution_count": 83,
   "metadata": {},
   "outputs": [],
   "source": [
    "xgb1 = XGBClassifier(\n",
    " learning_rate =0.01,\n",
    " n_estimators=1000,\n",
    " max_depth=8,\n",
    " min_child_weight=0.5,\n",
    " gamma=0,\n",
    " subsample=0.9,\n",
    " colsample_bytree=0.9,\n",
    " reg_alpha=0.001,\n",
    "reg_lambda=0.5,\n",
    " objective= 'binary:logistic',\n",
    " nthread=4,\n",
    " seed=27)"
   ]
  },
  {
   "cell_type": "code",
   "execution_count": 84,
   "metadata": {},
   "outputs": [
    {
     "name": "stdout",
     "output_type": "stream",
     "text": [
      "模型的准确率为：\n",
      " 0.8001054852320675\n",
      "模型的评估报告:\n",
      "              precision    recall  f1-score   support\n",
      "\n",
      "          0       0.86      0.84      0.85      1268\n",
      "          1       0.69      0.73      0.71       628\n",
      "\n",
      "avg / total       0.80      0.80      0.80      1896\n",
      "\n"
     ]
    },
    {
     "name": "stderr",
     "output_type": "stream",
     "text": [
      "d:\\Anaconda3\\lib\\site-packages\\sklearn\\preprocessing\\label.py:151: DeprecationWarning: The truth value of an empty array is ambiguous. Returning False, but in future this will result in an error. Use `array.size > 0` to check that an array is not empty.\n",
      "  if diff:\n"
     ]
    }
   ],
   "source": [
    "xgb1.fit(over_samples_X,over_samples_y)\n",
    "\n",
    "resample_pred=xgb1.predict(np.array(X_test))\n",
    "\n",
    "print('模型的准确率为：\\n',metrics.accuracy_score(y_test,resample_pred))\n",
    "print('模型的评估报告:\\n',metrics.classification_report(y_test,resample_pred))\n"
   ]
  }
 ],
 "metadata": {
  "kernelspec": {
   "display_name": "Python 3",
   "language": "python",
   "name": "python3"
  },
  "language_info": {
   "codemirror_mode": {
    "name": "ipython",
    "version": 3
   },
   "file_extension": ".py",
   "mimetype": "text/x-python",
   "name": "python",
   "nbconvert_exporter": "python",
   "pygments_lexer": "ipython3",
   "version": "3.6.4"
  }
 },
 "nbformat": 4,
 "nbformat_minor": 2
}
