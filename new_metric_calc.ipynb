{
 "nbformat": 4,
 "nbformat_minor": 2,
 "metadata": {
  "language_info": {
   "name": "python",
   "codemirror_mode": {
    "name": "ipython",
    "version": 3
   },
   "version": "3.7.5"
  },
  "orig_nbformat": 2,
  "file_extension": ".py",
  "mimetype": "text/x-python",
  "name": "python",
  "npconvert_exporter": "python",
  "pygments_lexer": "ipython3",
  "version": 3
 },
 "cells": [
  {
   "cell_type": "code",
   "execution_count": 1,
   "metadata": {},
   "outputs": [],
   "source": [
    "import pandas as pd\n",
    "import numpy as np"
   ]
  },
  {
   "cell_type": "code",
   "execution_count": 2,
   "metadata": {},
   "outputs": [],
   "source": [
    "df_new = pd.read_excel('allxinzhibiao.xlsx')\n",
    "df_se = df_new[['start','end']]\n",
    "df_origin = pd.read_excel('data2.0.xlsx')\n",
    "df_all = pd.concat([df_origin, df_se],axis=1).reindex(df_origin.index)"
   ]
  },
  {
   "cell_type": "code",
   "execution_count": null,
   "metadata": {},
   "outputs": [],
   "source": [
    "sequenceAmount = df_all['SequenceAmount'].to_list()\n",
    "offset = []\n",
    "i = 0\n",
    "while(i < len(sequenceAmount)):\n",
    "    sequenceAmount_cur = sequenceAmount[i]\n",
    "    offset.append(i)\n",
    "    i += sequenceAmount_cur"
   ]
  },
  {
   "cell_type": "code",
   "execution_count": null,
   "metadata": {},
   "outputs": [],
   "source": [
    "example_num = df_all.shape[0] # 记录数据集中的样例数目\n",
    "\n",
    "# 记录各个样例的新指标，最终应为4个长度为example_num的向量\n",
    "A_occurence = [] \n",
    "C_occurence = []\n",
    "G_occurence = []\n",
    "U_occurence = []\n",
    "\n",
    "# 迭代地计算各个样例的新指标\n",
    "for i in range(example_num):\n",
    "    start_cur = int(df_all.iloc[i]['start']) # 取得当前样例的start特征\n",
    "    end_cur = int(df_all.iloc[i]['end']) # 取得当前样例的end特征\n",
    "    no_cur = int(df_all.iloc[i]['NO']) # 取得当前样例的NO特征\n",
    "    offset_cur = offset[no_cur-1] # 各个序列在完整数据集上的偏移量 e.g.Name为’1AJU'的序列的第一个样例在完整数据集上的偏移量为0\n",
    "    # 当前样例的各项新指标的计数器\n",
    "    A_cnt = 0 \n",
    "    C_cnt = 0\n",
    "    G_cnt = 0\n",
    "    U_cnt = 0\n",
    "    # 在序列内根据当前样例的start和end所确定的范围内，迭代地对A/C/G/U的出现次数进行计数\n",
    "    for j in range(offset_cur+start_cur, offset_cur+end_cur+1):\n",
    "        #calculate occurence of A/C/G/U\n",
    "        print(j)\n",
    "        # if(df_all.iloc[j]['Sequence']=='A'):\n",
    "        #     A_cnt += 1\n",
    "        # elif(df_all.iloc[j]['Sequence']=='C'):\n",
    "        #     C_cnt += 1\n",
    "        # elif(df_all.iloc[j]['Sequence']=='G'):\n",
    "        #     G_cnt += 1   \n",
    "        # elif(df_all.iloc[j]['Sequence']=='U'):\n",
    "            U_cnt += 1   \n",
    "    A_occurence.append(A_cnt)\n",
    "    C_occurence.append(C_cnt)\n",
    "    G_occurence.append(G_cnt)\n",
    "    U_occurence.append(U_cnt)"
   ]
  }
 ]
}