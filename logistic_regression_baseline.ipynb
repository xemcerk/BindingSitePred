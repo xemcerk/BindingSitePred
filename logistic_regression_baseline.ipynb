{
 "nbformat": 4,
 "nbformat_minor": 2,
 "metadata": {
  "language_info": {
   "name": "python",
   "codemirror_mode": {
    "name": "ipython",
    "version": 3
   },
   "version": "3.7.5"
  },
  "orig_nbformat": 2,
  "file_extension": ".py",
  "mimetype": "text/x-python",
  "name": "python",
  "npconvert_exporter": "python",
  "pygments_lexer": "ipython3",
  "version": 3
 },
 "cells": [
  {
   "cell_type": "code",
   "execution_count": 1,
   "metadata": {},
   "outputs": [],
   "source": [
    "import pandas as pd\n",
    "import numpy as np\n",
    "from sklearn.model_selection import train_test_split\n",
    "from sklearn.linear_model import LogisticRegression\n"
   ]
  },
  {
   "cell_type": "code",
   "execution_count": 2,
   "metadata": {},
   "outputs": [
    {
     "data": {
      "text/html": "<div>\n<style scoped>\n    .dataframe tbody tr th:only-of-type {\n        vertical-align: middle;\n    }\n\n    .dataframe tbody tr th {\n        vertical-align: top;\n    }\n\n    .dataframe thead th {\n        text-align: right;\n    }\n</style>\n<table border=\"1\" class=\"dataframe\">\n  <thead>\n    <tr style=\"text-align: right;\">\n      <th></th>\n      <th>NO</th>\n      <th>Name</th>\n      <th>SequenceAmount</th>\n      <th>Sequence</th>\n      <th>Sites Number</th>\n      <th>Binding Sites</th>\n      <th>v1*seqloc</th>\n      <th>v2*seqloc</th>\n      <th>v3*seqloc</th>\n      <th>v4*seqloc</th>\n      <th>...</th>\n      <th>cp(hb)*loc</th>\n      <th>cp(fg)*loc</th>\n      <th>v1*energyloc</th>\n      <th>v2*energyloc</th>\n      <th>v3*energyloc</th>\n      <th>v4*energyloc</th>\n      <th>cp(rs)*energyloc</th>\n      <th>cp(hb)*energyloc</th>\n      <th>cp(fg)*energyloc</th>\n      <th>cb*energyloc</th>\n    </tr>\n  </thead>\n  <tbody>\n    <tr>\n      <th>0</th>\n      <td>1</td>\n      <td>1AJU</td>\n      <td>30</td>\n      <td>G</td>\n      <td>1</td>\n      <td>0</td>\n      <td>0.084576</td>\n      <td>1.026948</td>\n      <td>0.000000</td>\n      <td>-0.200000</td>\n      <td>...</td>\n      <td>0.000000</td>\n      <td>0.000000</td>\n      <td>0.087492</td>\n      <td>1.062360</td>\n      <td>0.000000</td>\n      <td>-0.206897</td>\n      <td>0.034483</td>\n      <td>0.000000</td>\n      <td>0.000000</td>\n      <td>0.103448</td>\n    </tr>\n    <tr>\n      <th>1</th>\n      <td>1</td>\n      <td>1AJU</td>\n      <td>30</td>\n      <td>G</td>\n      <td>2</td>\n      <td>0</td>\n      <td>0.169151</td>\n      <td>2.053897</td>\n      <td>0.000000</td>\n      <td>-0.400000</td>\n      <td>...</td>\n      <td>0.000000</td>\n      <td>0.000000</td>\n      <td>0.174984</td>\n      <td>2.124721</td>\n      <td>0.000000</td>\n      <td>-0.413793</td>\n      <td>0.068966</td>\n      <td>0.000000</td>\n      <td>0.000000</td>\n      <td>0.206897</td>\n    </tr>\n    <tr>\n      <th>2</th>\n      <td>1</td>\n      <td>1AJU</td>\n      <td>30</td>\n      <td>C</td>\n      <td>3</td>\n      <td>0</td>\n      <td>0.560113</td>\n      <td>9.442264</td>\n      <td>9.670000</td>\n      <td>-0.321000</td>\n      <td>...</td>\n      <td>0.100000</td>\n      <td>0.100000</td>\n      <td>0.579427</td>\n      <td>9.767859</td>\n      <td>10.003448</td>\n      <td>-0.332069</td>\n      <td>0.103448</td>\n      <td>0.103448</td>\n      <td>0.103448</td>\n      <td>0.310345</td>\n    </tr>\n    <tr>\n      <th>3</th>\n      <td>1</td>\n      <td>1AJU</td>\n      <td>30</td>\n      <td>C</td>\n      <td>4</td>\n      <td>0</td>\n      <td>0.746817</td>\n      <td>12.589685</td>\n      <td>12.893333</td>\n      <td>-0.428000</td>\n      <td>...</td>\n      <td>0.133333</td>\n      <td>0.133333</td>\n      <td>0.772570</td>\n      <td>13.023812</td>\n      <td>13.337931</td>\n      <td>-0.442759</td>\n      <td>0.137931</td>\n      <td>0.137931</td>\n      <td>0.137931</td>\n      <td>0.413793</td>\n    </tr>\n    <tr>\n      <th>4</th>\n      <td>1</td>\n      <td>1AJU</td>\n      <td>30</td>\n      <td>A</td>\n      <td>5</td>\n      <td>0</td>\n      <td>0.973389</td>\n      <td>17.358617</td>\n      <td>30.825950</td>\n      <td>-0.506667</td>\n      <td>...</td>\n      <td>0.166667</td>\n      <td>0.166667</td>\n      <td>1.006954</td>\n      <td>17.957190</td>\n      <td>31.888914</td>\n      <td>-0.524138</td>\n      <td>0.172414</td>\n      <td>0.172414</td>\n      <td>0.172414</td>\n      <td>0.344828</td>\n    </tr>\n  </tbody>\n</table>\n<p>5 rows × 22 columns</p>\n</div>",
      "text/plain": "   NO  Name  SequenceAmount Sequence  Sites Number  Binding Sites  v1*seqloc  \\\n0   1  1AJU              30        G             1              0   0.084576   \n1   1  1AJU              30        G             2              0   0.169151   \n2   1  1AJU              30        C             3              0   0.560113   \n3   1  1AJU              30        C             4              0   0.746817   \n4   1  1AJU              30        A             5              0   0.973389   \n\n   v2*seqloc  v3*seqloc  v4*seqloc  ...  cp(hb)*loc  cp(fg)*loc  v1*energyloc  \\\n0   1.026948   0.000000  -0.200000  ...    0.000000    0.000000      0.087492   \n1   2.053897   0.000000  -0.400000  ...    0.000000    0.000000      0.174984   \n2   9.442264   9.670000  -0.321000  ...    0.100000    0.100000      0.579427   \n3  12.589685  12.893333  -0.428000  ...    0.133333    0.133333      0.772570   \n4  17.358617  30.825950  -0.506667  ...    0.166667    0.166667      1.006954   \n\n   v2*energyloc  v3*energyloc  v4*energyloc  cp(rs)*energyloc  \\\n0      1.062360      0.000000     -0.206897          0.034483   \n1      2.124721      0.000000     -0.413793          0.068966   \n2      9.767859     10.003448     -0.332069          0.103448   \n3     13.023812     13.337931     -0.442759          0.137931   \n4     17.957190     31.888914     -0.524138          0.172414   \n\n   cp(hb)*energyloc  cp(fg)*energyloc  cb*energyloc  \n0          0.000000          0.000000      0.103448  \n1          0.000000          0.000000      0.206897  \n2          0.103448          0.103448      0.310345  \n3          0.137931          0.137931      0.413793  \n4          0.172414          0.172414      0.344828  \n\n[5 rows x 22 columns]"
     },
     "execution_count": 2,
     "metadata": {},
     "output_type": "execute_result"
    }
   ],
   "source": [
    "df_all = pd.read_excel('data.xlsx')\n",
    "df_all.head()"
   ]
  },
  {
   "cell_type": "code",
   "execution_count": 3,
   "metadata": {},
   "outputs": [
    {
     "data": {
      "text/plain": "0       0\n1       0\n2       0\n3       0\n4       0\n       ..\n3786    0\n3787    1\n3788    1\n3789    0\n3790    0\nName: Binding Sites, Length: 3791, dtype: int64"
     },
     "execution_count": 3,
     "metadata": {},
     "output_type": "execute_result"
    }
   ],
   "source": [
    "col2drop = ['NO','Name','SequenceAmount','Sequence','Sites Number','Binding Sites']\n",
    "y = df_all['Binding Sites']\n",
    "X = df_all.drop(col2drop,axis=1)"
   ]
  },
  {
   "cell_type": "code",
   "execution_count": 6,
   "metadata": {},
   "outputs": [],
   "source": [
    "X_train, X_test, y_train, y_test = train_test_split(X, y, test_size=0.33, random_state=42)"
   ]
  },
  {
   "cell_type": "code",
   "execution_count": 7,
   "metadata": {},
   "outputs": [],
   "source": [
    "clf = LogisticRegression(random_state=0, solver='lbfgs',max_iter=1000).fit(X_train, y_train)"
   ]
  },
  {
   "cell_type": "code",
   "execution_count": 10,
   "metadata": {},
   "outputs": [
    {
     "data": {
      "text/plain": "0.6501597444089456"
     },
     "execution_count": 10,
     "metadata": {},
     "output_type": "execute_result"
    }
   ],
   "source": [
    "clf.score(X_test,y_test)"
   ]
  }
 ]
}