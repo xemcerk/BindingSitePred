{
 "cells": [
  {
   "cell_type": "markdown",
   "metadata": {},
   "source": [
    "### 以下代码和流程参考 https://blog.csdn.net/kicilove/article/details/78413112\n",
    "### 以下代码和流程参考 https://www.analyticsvidhya.com/blog/2016/03/complete-guide-parameter-tuning-xgboost-with-codes-python/"
   ]
  },
  {
   "cell_type": "code",
   "execution_count": 1,
   "metadata": {},
   "outputs": [
    {
     "name": "stderr",
     "output_type": "stream",
     "text": [
      "d:\\Anaconda3\\lib\\site-packages\\sklearn\\cross_validation.py:41: DeprecationWarning: This module was deprecated in version 0.18 in favor of the model_selection module into which all the refactored classes and functions are moved. Also note that the interface of the new CV iterators are different from that of this module. This module will be removed in 0.20.\n",
      "  \"This module will be removed in 0.20.\", DeprecationWarning)\n",
      "d:\\Anaconda3\\lib\\site-packages\\sklearn\\grid_search.py:42: DeprecationWarning: This module was deprecated in version 0.18 in favor of the model_selection module into which all the refactored classes and functions are moved. This module will be removed in 0.20.\n",
      "  DeprecationWarning)\n"
     ]
    }
   ],
   "source": [
    "#Import libraries:\n",
    "import pandas as pd\n",
    "import numpy as np\n",
    "import xgboost as xgb\n",
    "from xgboost.sklearn import XGBClassifier\n",
    "from sklearn import cross_validation, metrics   #Additional scklearn functions\n",
    "from sklearn.grid_search import GridSearchCV   #Perforing grid search\n",
    "import matplotlib.pylab as plt\n",
    "%matplotlib inline\n",
    "from matplotlib.pylab import rcParams\n",
    "rcParams['figure.figsize'] = 12, 4\n",
    "from sklearn.cross_validation import train_test_split"
   ]
  },
  {
   "cell_type": "code",
   "execution_count": 2,
   "metadata": {},
   "outputs": [],
   "source": [
    "dataset = pd.read_excel('D:/data2.0.xlsx')\n"
   ]
  },
  {
   "cell_type": "code",
   "execution_count": 3,
   "metadata": {},
   "outputs": [],
   "source": [
    "target = 'Binding Sites'"
   ]
  },
  {
   "cell_type": "code",
   "execution_count": 5,
   "metadata": {},
   "outputs": [],
   "source": [
    "#Choose all features_name except target \n",
    "feature_name = [x for x in dataset.columns if x not in [target]]"
   ]
  },
  {
   "cell_type": "code",
   "execution_count": 6,
   "metadata": {},
   "outputs": [],
   "source": [
    "train,test = train_test_split(dataset,test_size=0.33,random_state=7)"
   ]
  },
  {
   "cell_type": "code",
   "execution_count": 7,
   "metadata": {},
   "outputs": [],
   "source": [
    "xgb1 = XGBClassifier(max_depth=3,\n",
    "                    learning_rate=0.1,\n",
    "                    n_estimators=1000,\n",
    "                    silent=False,\n",
    "                    objective='binary:logistic',\n",
    "                    booster='gbtree',\n",
    "                    n_jobs=4,\n",
    "                    gamma=0,\n",
    "                    min_child_weight=1,\n",
    "                    subsample=0.8,\n",
    "                    nthread=4,\n",
    "                    colsample_bytree=0.8,\n",
    "                    scale_pos_weight=1,\n",
    "                    seed=7)\n"
   ]
  },
  {
   "cell_type": "code",
   "execution_count": 8,
   "metadata": {},
   "outputs": [
    {
     "data": {
      "text/plain": [
       "{'base_score': 0.5,\n",
       " 'booster': 'gbtree',\n",
       " 'colsample_bylevel': 1,\n",
       " 'colsample_bynode': 1,\n",
       " 'colsample_bytree': 0.8,\n",
       " 'gamma': 0,\n",
       " 'learning_rate': 0.1,\n",
       " 'max_delta_step': 0,\n",
       " 'max_depth': 3,\n",
       " 'min_child_weight': 1,\n",
       " 'missing': None,\n",
       " 'n_estimators': 1000,\n",
       " 'nthread': 4,\n",
       " 'objective': 'binary:logistic',\n",
       " 'reg_alpha': 0,\n",
       " 'reg_lambda': 1,\n",
       " 'scale_pos_weight': 1,\n",
       " 'seed': 7,\n",
       " 'silent': False,\n",
       " 'subsample': 0.8,\n",
       " 'verbosity': 1}"
      ]
     },
     "execution_count": 8,
     "metadata": {},
     "output_type": "execute_result"
    }
   ],
   "source": [
    "xgb1.get_xgb_params()"
   ]
  },
  {
   "cell_type": "code",
   "execution_count": 9,
   "metadata": {},
   "outputs": [],
   "source": [
    "def modelfit(alg, dtrain, predictors,useTrainCV=True, cv_folds=5, early_stopping_rounds=50):\n",
    "    \n",
    "    if useTrainCV:\n",
    "        xgb_param = alg.get_xgb_params()\n",
    "        xgtrain = xgb.DMatrix(dtrain[feature_name].values, label=dtrain[target].values)\n",
    "        cvresult = xgb.cv(xgb_param, xgtrain, num_boost_round=alg.get_params()['n_estimators'], nfold=cv_folds,\n",
    "            metrics='auc', early_stopping_rounds=early_stopping_rounds, verbose_eval=False)\n",
    "        alg.set_params(n_estimators=cvresult.shape[0])\n",
    "    \n",
    "    #Fit the algorithm on the data\n",
    "    alg.fit(dtrain[feature_name], dtrain['Binding Sites'],eval_metric='auc')\n",
    "        \n",
    "    #Predict training set:\n",
    "    dtrain_predictions = alg.predict(dtrain[feature_name])\n",
    "    dtrain_predprob = alg.predict_proba(dtrain[feature_name])[:,1]\n",
    "        \n",
    "    #Print model report:\n",
    "    print (\"\\nModel Report\")\n",
    "    print (\"Accuracy : %.4g\" % metrics.accuracy_score(dtrain['Binding Sites'].values, dtrain_predictions))\n",
    "    print (\"AUC Score (Train): %f\" % metrics.roc_auc_score(dtrain['Binding Sites'], dtrain_predprob))\n",
    "                    \n",
    "    feat_imp = pd.Series(alg.get_booster().get_fscore()).sort_values(ascending=False)\n",
    "    feat_imp.plot(kind='bar', title='Feature Importances')\n",
    "    plt.ylabel('Feature Importance Score')"
   ]
  },
  {
   "cell_type": "code",
   "execution_count": 10,
   "metadata": {
    "scrolled": true
   },
   "outputs": [
    {
     "name": "stderr",
     "output_type": "stream",
     "text": [
      "d:\\Anaconda3\\lib\\site-packages\\sklearn\\preprocessing\\label.py:151: DeprecationWarning: The truth value of an empty array is ambiguous. Returning False, but in future this will result in an error. Use `array.size > 0` to check that an array is not empty.\n",
      "  if diff:\n"
     ]
    },
    {
     "name": "stdout",
     "output_type": "stream",
     "text": [
      "\n",
      "Model Report\n",
      "Accuracy : 0.8925\n",
      "AUC Score (Train): 0.956089\n"
     ]
    },
    {
     "data": {
      "image/png": "[encoded data removed]",
      "text/plain": [
       "<matplotlib.figure.Figure at 0x28921a809b0>"
      ]
     },
     "metadata": {},
     "output_type": "display_data"
    }
   ],
   "source": [
    "modelfit(xgb1, train,feature_name)"
   ]
  },
  {
   "cell_type": "markdown",
   "metadata": {},
   "source": [
    "### 因为想知道测试集的准确率，所以在下面modelfit中将train改成test，看看能不能得到测试集的准确率（但没有修改modelfit的函数，想着单纯将train数据换成test数据罢了，不知道这样做对不对，待考究）"
   ]
  },
  {
   "cell_type": "code",
   "execution_count": 30,
   "metadata": {},
   "outputs": [
    {
     "name": "stderr",
     "output_type": "stream",
     "text": [
      "d:\\Anaconda3\\lib\\site-packages\\sklearn\\preprocessing\\label.py:151: DeprecationWarning: The truth value of an empty array is ambiguous. Returning False, but in future this will result in an error. Use `array.size > 0` to check that an array is not empty.\n",
      "  if diff:\n"
     ]
    },
    {
     "name": "stdout",
     "output_type": "stream",
     "text": [
      "\n",
      "Model Report\n",
      "Accuracy : 0.8706\n",
      "AUC Score (Train): 0.948138\n"
     ]
    },
    {
     "data": {
      "image/png": "[encoded data removed]",
      "text/plain": [
       "<matplotlib.figure.Figure at 0x2892186d780>"
      ]
     },
     "metadata": {},
     "output_type": "display_data"
    }
   ],
   "source": [
    "xgb1 = XGBClassifier(max_depth=3,\n",
    "                    learning_rate=0.1,\n",
    "                    n_estimators=1000,\n",
    "                    silent=False,\n",
    "                    objective='binary:logistic',\n",
    "                    booster='gbtree',\n",
    "                    n_jobs=4,\n",
    "                    gamma=0,\n",
    "                    min_child_weight=1,\n",
    "                    subsample=0.8,\n",
    "                    nthread=4,\n",
    "                    colsample_bytree=0.8,\n",
    "                    scale_pos_weight=1,\n",
    "                    seed=7)\n",
    "modelfit(xgb1, test,feature_name)"
   ]
  },
  {
   "cell_type": "markdown",
   "metadata": {},
   "source": [
    "## 如何显示测试集的aucscore"
   ]
  },
  {
   "cell_type": "code",
   "execution_count": 13,
   "metadata": {},
   "outputs": [
    {
     "data": {
      "text/plain": [
       "([mean: 0.69305, std: 0.02440, params: {'max_depth': 1, 'min_child_weight': 1},\n",
       "  mean: 0.69399, std: 0.02433, params: {'max_depth': 1, 'min_child_weight': 2},\n",
       "  mean: 0.69399, std: 0.02432, params: {'max_depth': 1, 'min_child_weight': 3},\n",
       "  mean: 0.69399, std: 0.02432, params: {'max_depth': 1, 'min_child_weight': 4},\n",
       "  mean: 0.69413, std: 0.02437, params: {'max_depth': 1, 'min_child_weight': 5},\n",
       "  mean: 0.76781, std: 0.02581, params: {'max_depth': 2, 'min_child_weight': 1},\n",
       "  mean: 0.77057, std: 0.02797, params: {'max_depth': 2, 'min_child_weight': 2},\n",
       "  mean: 0.77027, std: 0.02777, params: {'max_depth': 2, 'min_child_weight': 3},\n",
       "  mean: 0.76922, std: 0.02468, params: {'max_depth': 2, 'min_child_weight': 4},\n",
       "  mean: 0.77050, std: 0.02521, params: {'max_depth': 2, 'min_child_weight': 5},\n",
       "  mean: 0.80256, std: 0.02217, params: {'max_depth': 3, 'min_child_weight': 1},\n",
       "  mean: 0.80283, std: 0.02009, params: {'max_depth': 3, 'min_child_weight': 2},\n",
       "  mean: 0.79894, std: 0.02398, params: {'max_depth': 3, 'min_child_weight': 3},\n",
       "  mean: 0.80132, std: 0.02128, params: {'max_depth': 3, 'min_child_weight': 4},\n",
       "  mean: 0.79957, std: 0.02071, params: {'max_depth': 3, 'min_child_weight': 5},\n",
       "  mean: 0.81912, std: 0.01790, params: {'max_depth': 4, 'min_child_weight': 1},\n",
       "  mean: 0.81888, std: 0.01749, params: {'max_depth': 4, 'min_child_weight': 2},\n",
       "  mean: 0.81715, std: 0.01874, params: {'max_depth': 4, 'min_child_weight': 3},\n",
       "  mean: 0.81332, std: 0.01903, params: {'max_depth': 4, 'min_child_weight': 4},\n",
       "  mean: 0.81585, std: 0.02159, params: {'max_depth': 4, 'min_child_weight': 5},\n",
       "  mean: 0.82895, std: 0.01550, params: {'max_depth': 5, 'min_child_weight': 1},\n",
       "  mean: 0.82561, std: 0.01632, params: {'max_depth': 5, 'min_child_weight': 2},\n",
       "  mean: 0.82639, std: 0.01810, params: {'max_depth': 5, 'min_child_weight': 3},\n",
       "  mean: 0.82364, std: 0.01948, params: {'max_depth': 5, 'min_child_weight': 4},\n",
       "  mean: 0.82334, std: 0.01880, params: {'max_depth': 5, 'min_child_weight': 5}],\n",
       " {'max_depth': 5, 'min_child_weight': 1},\n",
       " 0.8289469653465815)"
      ]
     },
     "execution_count": 13,
     "metadata": {},
     "output_type": "execute_result"
    }
   ],
   "source": [
    "param_test1 = {\n",
    " 'max_depth':[1,2,3,4,5],\n",
    " 'min_child_weight':[1,2,3,4,5]\n",
    "}\n",
    "gsearch1 = GridSearchCV(estimator = XGBClassifier( learning_rate =0.1, n_estimators=140, max_depth=5,\n",
    " min_child_weight=1, gamma=0, subsample=0.8, colsample_bytree=0.8,\n",
    " objective= 'binary:logistic', nthread=4, scale_pos_weight=1, seed=27), \n",
    " param_grid = param_test1, scoring='roc_auc',n_jobs=4,iid=False, cv=5)\n",
    "gsearch1.fit(train[feature_name],train[target])\n",
    "gsearch1.grid_scores_, gsearch1.best_params_, gsearch1.best_score_"
   ]
  },
  {
   "cell_type": "code",
   "execution_count": 18,
   "metadata": {
    "scrolled": true
   },
   "outputs": [
    {
     "data": {
      "text/plain": [
       "([mean: 0.82169, std: 0.01716, params: {'max_depth': 4, 'min_child_weight': 0.5},\n",
       "  mean: 0.81912, std: 0.01790, params: {'max_depth': 4, 'min_child_weight': 1},\n",
       "  mean: 0.81923, std: 0.01685, params: {'max_depth': 4, 'min_child_weight': 1.5},\n",
       "  mean: 0.83022, std: 0.01462, params: {'max_depth': 5, 'min_child_weight': 0.5},\n",
       "  mean: 0.82895, std: 0.01550, params: {'max_depth': 5, 'min_child_weight': 1},\n",
       "  mean: 0.82946, std: 0.01624, params: {'max_depth': 5, 'min_child_weight': 1.5},\n",
       "  mean: 0.83365, std: 0.01493, params: {'max_depth': 6, 'min_child_weight': 0.5},\n",
       "  mean: 0.83432, std: 0.01520, params: {'max_depth': 6, 'min_child_weight': 1},\n",
       "  mean: 0.83317, std: 0.01686, params: {'max_depth': 6, 'min_child_weight': 1.5}],\n",
       " {'max_depth': 6, 'min_child_weight': 1},\n",
       " 0.8343226277287444)"
      ]
     },
     "execution_count": 18,
     "metadata": {},
     "output_type": "execute_result"
    }
   ],
   "source": [
    "param_test2 = {\n",
    " 'max_depth':[4,5,6],\n",
    " 'min_child_weight':[0.5,1,1.5]\n",
    "}\n",
    "gsearch2 = GridSearchCV(estimator = XGBClassifier( learning_rate=0.1, n_estimators=140, max_depth=5,\n",
    " min_child_weight=2, gamma=0, subsample=0.8, colsample_bytree=0.8,\n",
    " objective= 'binary:logistic', nthread=4, scale_pos_weight=1,seed=27), \n",
    " param_grid = param_test2, scoring='roc_auc',n_jobs=4,iid=False, cv=5)\n",
    "gsearch2.fit(train[feature_name],train[target])\n",
    "gsearch2.grid_scores_, gsearch2.best_params_, gsearch2.best_score_"
   ]
  },
  {
   "cell_type": "markdown",
   "metadata": {},
   "source": [
    "### 因为暂时max_depth最优值是6，所以可试试比6大的网格搜索。"
   ]
  },
  {
   "cell_type": "code",
   "execution_count": 20,
   "metadata": {},
   "outputs": [
    {
     "data": {
      "text/plain": [
       "([mean: 0.83367, std: 0.01568, params: {'max_depth': 6},\n",
       "  mean: 0.83769, std: 0.01482, params: {'max_depth': 8},\n",
       "  mean: 0.83694, std: 0.01600, params: {'max_depth': 10},\n",
       "  mean: 0.83773, std: 0.01518, params: {'max_depth': 12}],\n",
       " {'max_depth': 12},\n",
       " 0.837728697104849)"
      ]
     },
     "execution_count": 20,
     "metadata": {},
     "output_type": "execute_result"
    }
   ],
   "source": [
    "param_test2b = {\n",
    " 'max_depth':[6,8,10,12]\n",
    "}\n",
    "gsearch2 = GridSearchCV(estimator = XGBClassifier( learning_rate=0.1, n_estimators=140, max_depth=5,\n",
    " min_child_weight=2, gamma=0, subsample=0.8, colsample_bytree=0.8,\n",
    " objective= 'binary:logistic', nthread=4, scale_pos_weight=1,seed=27), \n",
    " param_grid = param_test2b, scoring='roc_auc',n_jobs=4,iid=False, cv=5)\n",
    "gsearch2.fit(train[feature_name],train[target])\n",
    "gsearch2.grid_scores_, gsearch2.best_params_, gsearch2.best_score_\n",
    "\n"
   ]
  },
  {
   "cell_type": "code",
   "execution_count": 21,
   "metadata": {},
   "outputs": [
    {
     "data": {
      "text/plain": [
       "([mean: 0.83773, std: 0.01518, params: {'max_depth': 12},\n",
       "  mean: 0.83681, std: 0.01571, params: {'max_depth': 14},\n",
       "  mean: 0.83633, std: 0.01317, params: {'max_depth': 16},\n",
       "  mean: 0.83581, std: 0.01437, params: {'max_depth': 18}],\n",
       " {'max_depth': 12},\n",
       " 0.837728697104849)"
      ]
     },
     "execution_count": 21,
     "metadata": {},
     "output_type": "execute_result"
    }
   ],
   "source": [
    "param_test2c = {\n",
    " 'max_depth':[12,14,16,18]\n",
    "}\n",
    "gsearch2 = GridSearchCV(estimator = XGBClassifier( learning_rate=0.1, n_estimators=140, max_depth=5,\n",
    " min_child_weight=2, gamma=0, subsample=0.8, colsample_bytree=0.8,\n",
    " objective= 'binary:logistic', nthread=4, scale_pos_weight=1,seed=27), \n",
    " param_grid = param_test2c, scoring='roc_auc',n_jobs=4,iid=False, cv=5)\n",
    "gsearch2.fit(train[feature_name],train[target])\n",
    "gsearch2.grid_scores_, gsearch2.best_params_, gsearch2.best_score_\n",
    "\n"
   ]
  },
  {
   "cell_type": "markdown",
   "metadata": {},
   "source": [
    "### 最终得到最优的max_depth为12，min_child_weight为1"
   ]
  },
  {
   "cell_type": "code",
   "execution_count": 22,
   "metadata": {},
   "outputs": [
    {
     "data": {
      "text/plain": [
       "([mean: 0.83766, std: 0.01549, params: {'gamma': 0.0},\n",
       "  mean: 0.83880, std: 0.01514, params: {'gamma': 0.1},\n",
       "  mean: 0.83906, std: 0.01572, params: {'gamma': 0.2},\n",
       "  mean: 0.83758, std: 0.01494, params: {'gamma': 0.3},\n",
       "  mean: 0.83736, std: 0.01568, params: {'gamma': 0.4}],\n",
       " {'gamma': 0.2},\n",
       " 0.8390642974013807)"
      ]
     },
     "execution_count": 22,
     "metadata": {},
     "output_type": "execute_result"
    }
   ],
   "source": [
    "param_test3 = {\n",
    " 'gamma':[i/10.0 for i in range(0,5)]\n",
    "}\n",
    "gsearch3 = GridSearchCV(estimator = XGBClassifier( learning_rate =0.1, n_estimators=140, max_depth=12,\n",
    " min_child_weight=1, gamma=0, subsample=0.8, colsample_bytree=0.8,\n",
    " objective= 'binary:logistic', nthread=4, scale_pos_weight=1,seed=27), \n",
    " param_grid = param_test3, scoring='roc_auc',n_jobs=4,iid=False, cv=5)\n",
    "gsearch3.fit(train[feature_name],train[target])\n",
    "gsearch3.grid_scores_, gsearch3.best_params_, gsearch3.best_score_"
   ]
  },
  {
   "cell_type": "code",
   "execution_count": 23,
   "metadata": {},
   "outputs": [
    {
     "name": "stderr",
     "output_type": "stream",
     "text": [
      "d:\\Anaconda3\\lib\\site-packages\\sklearn\\preprocessing\\label.py:151: DeprecationWarning: The truth value of an empty array is ambiguous. Returning False, but in future this will result in an error. Use `array.size > 0` to check that an array is not empty.\n",
      "  if diff:\n"
     ]
    },
    {
     "name": "stdout",
     "output_type": "stream",
     "text": [
      "\n",
      "Model Report\n",
      "Accuracy : 0.9417\n",
      "AUC Score (Train): 0.983480\n"
     ]
    },
    {
     "data": {
      "image/png": "[encoded data removed]",
      "text/plain": [
       "<matplotlib.figure.Figure at 0x28921e0b4a8>"
      ]
     },
     "metadata": {},
     "output_type": "display_data"
    }
   ],
   "source": [
    "xgb2 = XGBClassifier(\n",
    " learning_rate =0.1,\n",
    " n_estimators=1000,\n",
    " max_depth=12,\n",
    " min_child_weight=1,\n",
    " gamma=0.2,\n",
    " subsample=0.8,\n",
    " colsample_bytree=0.8,\n",
    " objective= 'binary:logistic',\n",
    " nthread=4,\n",
    " scale_pos_weight=1,\n",
    " seed=27)\n",
    "modelfit(xgb2, train, feature_name)"
   ]
  },
  {
   "cell_type": "code",
   "execution_count": 24,
   "metadata": {},
   "outputs": [
    {
     "data": {
      "text/plain": [
       "([mean: 0.83850, std: 0.01485, params: {'colsample_bytree': 0.6, 'subsample': 0.6},\n",
       "  mean: 0.83875, std: 0.01390, params: {'colsample_bytree': 0.6, 'subsample': 0.7},\n",
       "  mean: 0.83478, std: 0.01381, params: {'colsample_bytree': 0.6, 'subsample': 0.8},\n",
       "  mean: 0.83909, std: 0.01721, params: {'colsample_bytree': 0.6, 'subsample': 0.9},\n",
       "  mean: 0.83705, std: 0.01293, params: {'colsample_bytree': 0.7, 'subsample': 0.6},\n",
       "  mean: 0.83732, std: 0.01403, params: {'colsample_bytree': 0.7, 'subsample': 0.7},\n",
       "  mean: 0.83740, std: 0.01372, params: {'colsample_bytree': 0.7, 'subsample': 0.8},\n",
       "  mean: 0.83862, std: 0.01398, params: {'colsample_bytree': 0.7, 'subsample': 0.9},\n",
       "  mean: 0.83848, std: 0.01515, params: {'colsample_bytree': 0.8, 'subsample': 0.6},\n",
       "  mean: 0.83785, std: 0.01446, params: {'colsample_bytree': 0.8, 'subsample': 0.7},\n",
       "  mean: 0.83843, std: 0.01518, params: {'colsample_bytree': 0.8, 'subsample': 0.8},\n",
       "  mean: 0.83619, std: 0.01417, params: {'colsample_bytree': 0.8, 'subsample': 0.9},\n",
       "  mean: 0.83829, std: 0.01280, params: {'colsample_bytree': 0.9, 'subsample': 0.6},\n",
       "  mean: 0.83704, std: 0.01445, params: {'colsample_bytree': 0.9, 'subsample': 0.7},\n",
       "  mean: 0.83481, std: 0.01467, params: {'colsample_bytree': 0.9, 'subsample': 0.8},\n",
       "  mean: 0.83586, std: 0.01475, params: {'colsample_bytree': 0.9, 'subsample': 0.9}],\n",
       " {'colsample_bytree': 0.6, 'subsample': 0.9},\n",
       " 0.8390908449072118)"
      ]
     },
     "execution_count": 24,
     "metadata": {},
     "output_type": "execute_result"
    }
   ],
   "source": [
    "param_test4 = {\n",
    " 'subsample':[i/10.0 for i in range(6,10)],\n",
    " 'colsample_bytree':[i/10.0 for i in range(6,10)]\n",
    "}\n",
    "gsearch4 = GridSearchCV(estimator = XGBClassifier( learning_rate =0.1, n_estimators=177, max_depth=12,\n",
    " min_child_weight=1, gamma=0.2, subsample=0.8, colsample_bytree=0.8,\n",
    " objective= 'binary:logistic', nthread=4, scale_pos_weight=1,seed=27), \n",
    " param_grid = param_test4, scoring='roc_auc',n_jobs=4,iid=False, cv=5)\n",
    "gsearch4.fit(train[feature_name],train[target])\n",
    "gsearch4.grid_scores_, gsearch4.best_params_, gsearch4.best_score_"
   ]
  },
  {
   "cell_type": "markdown",
   "metadata": {},
   "source": [
    "### 'colsample_bytree最优值为0.6，subsample最优值为0.9"
   ]
  },
  {
   "cell_type": "code",
   "execution_count": 25,
   "metadata": {},
   "outputs": [
    {
     "data": {
      "text/plain": [
       "([mean: 0.83909, std: 0.01721, params: {'reg_alpha': 1e-05},\n",
       "  mean: 0.83713, std: 0.01549, params: {'reg_alpha': 0.01},\n",
       "  mean: 0.83827, std: 0.01455, params: {'reg_alpha': 0.1},\n",
       "  mean: 0.83816, std: 0.01593, params: {'reg_alpha': 1},\n",
       "  mean: 0.54915, std: 0.02520, params: {'reg_alpha': 100}],\n",
       " {'reg_alpha': 1e-05},\n",
       " 0.8390908449072118)"
      ]
     },
     "execution_count": 25,
     "metadata": {},
     "output_type": "execute_result"
    }
   ],
   "source": [
    "param_test6 = {\n",
    " 'reg_alpha':[1e-5, 1e-2, 0.1, 1, 100]\n",
    "}\n",
    "gsearch6 = GridSearchCV(estimator = XGBClassifier( learning_rate =0.1, n_estimators=177, max_depth=12,\n",
    " min_child_weight=1, gamma=0.2, subsample=0.9, colsample_bytree=0.6,\n",
    " objective= 'binary:logistic', nthread=4, scale_pos_weight=1,seed=27), \n",
    " param_grid = param_test6, scoring='roc_auc',n_jobs=4,iid=False, cv=5)\n",
    "gsearch6.fit(train[feature_name],train[target])\n",
    "gsearch6.grid_scores_, gsearch6.best_params_, gsearch6.best_score_"
   ]
  },
  {
   "cell_type": "markdown",
   "metadata": {},
   "source": [
    "### 'reg_alpha'最优值即初始值0.005"
   ]
  },
  {
   "cell_type": "code",
   "execution_count": 26,
   "metadata": {},
   "outputs": [
    {
     "name": "stderr",
     "output_type": "stream",
     "text": [
      "d:\\Anaconda3\\lib\\site-packages\\sklearn\\preprocessing\\label.py:151: DeprecationWarning: The truth value of an empty array is ambiguous. Returning False, but in future this will result in an error. Use `array.size > 0` to check that an array is not empty.\n",
      "  if diff:\n"
     ]
    },
    {
     "name": "stdout",
     "output_type": "stream",
     "text": [
      "\n",
      "Model Report\n",
      "Accuracy : 0.924\n",
      "AUC Score (Train): 0.976092\n"
     ]
    },
    {
     "data": {
      "image/png": "[encoded data removed]",
      "text/plain": [
       "<matplotlib.figure.Figure at 0x289216013c8>"
      ]
     },
     "metadata": {},
     "output_type": "display_data"
    }
   ],
   "source": [
    "xgb3 = XGBClassifier(\n",
    " learning_rate =0.1,\n",
    " n_estimators=1000,\n",
    " max_depth=12,\n",
    " min_child_weight=1,\n",
    " gamma=0.2,\n",
    " subsample=0.9,\n",
    " colsample_bytree=0.6,\n",
    " reg_alpha=0.005,\n",
    " objective= 'binary:logistic',\n",
    " nthread=4,\n",
    " scale_pos_weight=1,\n",
    " seed=27)\n",
    "modelfit(xgb3, train, feature_name)"
   ]
  },
  {
   "cell_type": "code",
   "execution_count": 28,
   "metadata": {
    "scrolled": true
   },
   "outputs": [
    {
     "name": "stderr",
     "output_type": "stream",
     "text": [
      "d:\\Anaconda3\\lib\\site-packages\\sklearn\\preprocessing\\label.py:151: DeprecationWarning: The truth value of an empty array is ambiguous. Returning False, but in future this will result in an error. Use `array.size > 0` to check that an array is not empty.\n",
      "  if diff:\n"
     ]
    },
    {
     "name": "stdout",
     "output_type": "stream",
     "text": [
      "\n",
      "Model Report\n",
      "Accuracy : 0.9279\n",
      "AUC Score (Train): 0.976813\n"
     ]
    },
    {
     "data": {
      "image/png": "[encoded data removed]",
      "text/plain": [
       "<matplotlib.figure.Figure at 0x289218188d0>"
      ]
     },
     "metadata": {},
     "output_type": "display_data"
    }
   ],
   "source": [
    "xgb4 = XGBClassifier(\n",
    " learning_rate =0.011,\n",
    " n_estimators=1000,\n",
    " max_depth=12,\n",
    " min_child_weight=1,\n",
    " gamma=0.2,\n",
    " subsample=0.9,\n",
    " colsample_bytree=0.6,\n",
    " reg_alpha=0.005,\n",
    " objective= 'binary:logistic',\n",
    " nthread=4,\n",
    " scale_pos_weight=1,\n",
    " seed=27)\n",
    "modelfit(xgb4, train, feature_name)"
   ]
  },
  {
   "cell_type": "markdown",
   "metadata": {},
   "source": [
    "### 因为想知道测试集的准确率，所以在下面modelfit中将train改成test，看看能不能得到测试集的准确率（但没有修改modelfit的函数，想着单纯将train数据换成test数据罢了，不知道这样做对不对，待考究）"
   ]
  },
  {
   "cell_type": "code",
   "execution_count": 29,
   "metadata": {
    "scrolled": true
   },
   "outputs": [
    {
     "name": "stderr",
     "output_type": "stream",
     "text": [
      "d:\\Anaconda3\\lib\\site-packages\\sklearn\\preprocessing\\label.py:151: DeprecationWarning: The truth value of an empty array is ambiguous. Returning False, but in future this will result in an error. Use `array.size > 0` to check that an array is not empty.\n",
      "  if diff:\n"
     ]
    },
    {
     "name": "stdout",
     "output_type": "stream",
     "text": [
      "\n",
      "Model Report\n",
      "Accuracy : 0.9089\n",
      "AUC Score (Train): 0.969283\n"
     ]
    },
    {
     "data": {
      "image/png": "[encoded data removed]",
      "text/plain": [
       "<matplotlib.figure.Figure at 0x289216b5320>"
      ]
     },
     "metadata": {},
     "output_type": "display_data"
    }
   ],
   "source": [
    "xgb4 = XGBClassifier(\n",
    " learning_rate =0.011,\n",
    " n_estimators=1000,\n",
    " max_depth=12,\n",
    " min_child_weight=1,\n",
    " gamma=0.2,\n",
    " subsample=0.9,\n",
    " colsample_bytree=0.6,\n",
    " reg_alpha=0.005,\n",
    " objective= 'binary:logistic',\n",
    " nthread=4,\n",
    " scale_pos_weight=1,\n",
    " seed=27)\n",
    "modelfit(xgb4, test, feature_name)"
   ]
  },
  {
   "cell_type": "markdown",
   "metadata": {},
   "source": [
    "### 在调优前后准确率都是很高的，而且如果这个真的是测试集的准确率的话，应该没出现过拟合现象，因为训练集和测试集准确率相近。\n",
    "### 有两个疑问：\n",
    "#### 1）这个真的是测试集的准确率吗？\n",
    "#### 2）需要引入cross evaluation去验证准确率以避免抽样bias吗？"
   ]
  },
  {
   "cell_type": "markdown",
   "execution_count": null,
   "metadata": {},
   "outputs": [],
   "source": [
    "1) 这样测出来的测试集准确率意义比较有限。划分训练集和测试集是为了了解模型的泛化（generalization）性能，也就是模型预测“没有见过”的样例时的准确率，因此我们在训练集上利用标签信息来训练模型，然后用训练好的模型对训练集进行预测，用得到的预测结果和测试集的标签进行准确率计算。如果用上述方法计算测试集的准确率，那么模型是“已经见过了”测试集的样例的，因为它在测试集上同样利用了标签信息进行训练，所以没有办法了解模型的泛化性能。而泛化性能之所以重要是因为一般来说模型只会训练一次，然后就会部署上线使用，这之后每一次的预测都是没见过的样例，所以它可以看作模型的“实战性能”。\n",
    "2) 很有必要！你可以去了解下 训练集/验证集/测试集的划分的意义"
   ]
  },
  {
   "cell_type": "code",
   "execution_count": null,
   "metadata": {},
   "outputs": [],
   "source": [
    "#如果你要测模型在测试集上的性能可以大概这么写，sry，未来得及验证是不是能跑，一般来说模型会封装有fit方法：用来拟合训练集，和predict方法：用来预测样例\n",
    "dtest_predictions = xgb.predict(dtest[feature_name]) #调用模型的predict方法预测测试集的样例 得到预测结果存在dtest_predictions\n",
    "print (\"Accuracy : %.4g\" % metrics.accuracy_score(dtest['Binding Sites'].values, dtest_predictions)) #计算并打印测试集标签与预测结果的比较结果 即准确率\n"
   ]
  }
 ],
 "metadata": {
  "kernelspec": {
   "display_name": "Python 3",
   "language": "python",
   "name": "python3"
  },
  "language_info": {
   "codemirror_mode": {
    "name": "ipython",
    "version": 3
   },
   "file_extension": ".py",
   "mimetype": "text/x-python",
   "name": "python",
   "nbconvert_exporter": "python",
   "pygments_lexer": "ipython3",
   "version": "3.6.4"
  }
 },
 "nbformat": 4,
 "nbformat_minor": 2
}