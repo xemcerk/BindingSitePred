{
 "nbformat": 4,
 "nbformat_minor": 2,
 "metadata": {
  "language_info": {
   "name": "python",
   "codemirror_mode": {
    "name": "ipython",
    "version": 3
   },
   "version": "3.7.5"
  },
  "orig_nbformat": 2,
  "file_extension": ".py",
  "mimetype": "text/x-python",
  "name": "python",
  "npconvert_exporter": "python",
  "pygments_lexer": "ipython3",
  "version": 3
 },
 "cells": [
  {
   "cell_type": "code",
   "execution_count": 17,
   "metadata": {},
   "outputs": [],
   "source": [
    "import pandas as pd\n",
    "import numpy as np"
   ]
  },
  {
   "cell_type": "code",
   "execution_count": 18,
   "metadata": {},
   "outputs": [
    {
     "data": {
      "text/plain": "(3791, 32)"
     },
     "execution_count": 18,
     "metadata": {},
     "output_type": "execute_result"
    }
   ],
   "source": [
    "df_complete = pd.read_excel('data_complete_rectified.xlsx')\n",
    "df_complete.shape"
   ]
  },
  {
   "cell_type": "code",
   "execution_count": null,
   "metadata": {},
   "outputs": [],
   "source": [
    "sequenceAmount = df_complete['SequenceAmount'].to_list()\n",
    "offset = []\n",
    "i = 0\n",
    "while(i < len(sequenceAmount)):\n",
    "    sequenceAmount_cur = sequenceAmount[i]\n",
    "    # print(i)\n",
    "    offset.append(i)\n",
    "    i += sequenceAmount_cur\n",
    "    # assert df_complete.iloc[offset[-1]-1]['NO'] != df_complete.iloc[offset[-2]-1]['NO']"
   ]
  },
  {
   "cell_type": "code",
   "execution_count": 20,
   "metadata": {},
   "outputs": [],
   "source": [
    "#测试SequenceAmount与实际样例数是否匹配 输出不匹配的NO\n",
    "for i in range(1,72):\n",
    "    if(df_complete[df_complete['NO']==i].shape[0] != \n",
    "    df_complete[df_complete['NO']==i]['SequenceAmount'].mean()):\n",
    "        print(i)\n"
   ]
  },
  {
   "cell_type": "code",
   "execution_count": 21,
   "metadata": {},
   "outputs": [
    {
     "data": {
      "text/html": "<div>\n<style scoped>\n    .dataframe tbody tr th:only-of-type {\n        vertical-align: middle;\n    }\n\n    .dataframe tbody tr th {\n        vertical-align: top;\n    }\n\n    .dataframe thead th {\n        text-align: right;\n    }\n</style>\n<table border=\"1\" class=\"dataframe\">\n  <thead>\n    <tr style=\"text-align: right;\">\n      <th></th>\n      <th>NO</th>\n      <th>Name</th>\n      <th>SequenceAmount</th>\n      <th>Sequence</th>\n      <th>Sites Number</th>\n      <th>start</th>\n      <th>end</th>\n      <th>Density</th>\n      <th>v1*energyloc</th>\n      <th>v2*energyloc</th>\n      <th>...</th>\n      <th>v4*seqloc</th>\n      <th>cb*seqloc</th>\n      <th>cp(rs)*seqloc</th>\n      <th>cp(hb)*seqloc</th>\n      <th>cp(fg)*seqloc</th>\n      <th>Sequence_A</th>\n      <th>Sequence_C</th>\n      <th>Sequence_G</th>\n      <th>Sequence_U</th>\n      <th>BS</th>\n    </tr>\n  </thead>\n  <tbody>\n    <tr>\n      <th>492</th>\n      <td>17</td>\n      <td>1Y26</td>\n      <td>71</td>\n      <td>C</td>\n      <td>1</td>\n      <td>1</td>\n      <td>4</td>\n      <td>1.000000</td>\n      <td>0.000000</td>\n      <td>0.000000</td>\n      <td>...</td>\n      <td>-0.042237</td>\n      <td>0.039474</td>\n      <td>0.013158</td>\n      <td>0.013158</td>\n      <td>0.013158</td>\n      <td>0</td>\n      <td>1</td>\n      <td>0</td>\n      <td>0</td>\n      <td>0</td>\n    </tr>\n    <tr>\n      <th>493</th>\n      <td>17</td>\n      <td>1Y26</td>\n      <td>71</td>\n      <td>G</td>\n      <td>2</td>\n      <td>1</td>\n      <td>5</td>\n      <td>0.500000</td>\n      <td>0.000000</td>\n      <td>0.000000</td>\n      <td>...</td>\n      <td>-0.157895</td>\n      <td>0.078947</td>\n      <td>0.026316</td>\n      <td>0.000000</td>\n      <td>0.000000</td>\n      <td>0</td>\n      <td>0</td>\n      <td>1</td>\n      <td>0</td>\n      <td>0</td>\n    </tr>\n    <tr>\n      <th>494</th>\n      <td>17</td>\n      <td>1Y26</td>\n      <td>71</td>\n      <td>C</td>\n      <td>3</td>\n      <td>1</td>\n      <td>6</td>\n      <td>0.666667</td>\n      <td>0.000000</td>\n      <td>0.000000</td>\n      <td>...</td>\n      <td>-0.135634</td>\n      <td>0.126761</td>\n      <td>0.042254</td>\n      <td>0.042254</td>\n      <td>0.042254</td>\n      <td>0</td>\n      <td>1</td>\n      <td>0</td>\n      <td>0</td>\n      <td>0</td>\n    </tr>\n    <tr>\n      <th>495</th>\n      <td>17</td>\n      <td>1Y26</td>\n      <td>71</td>\n      <td>U</td>\n      <td>4</td>\n      <td>1</td>\n      <td>7</td>\n      <td>0.250000</td>\n      <td>0.996240</td>\n      <td>16.030472</td>\n      <td>...</td>\n      <td>-0.172958</td>\n      <td>0.112676</td>\n      <td>0.000000</td>\n      <td>0.056338</td>\n      <td>0.000000</td>\n      <td>0</td>\n      <td>0</td>\n      <td>0</td>\n      <td>1</td>\n      <td>0</td>\n    </tr>\n    <tr>\n      <th>496</th>\n      <td>17</td>\n      <td>1Y26</td>\n      <td>71</td>\n      <td>U</td>\n      <td>5</td>\n      <td>2</td>\n      <td>8</td>\n      <td>0.400000</td>\n      <td>1.992479</td>\n      <td>32.060943</td>\n      <td>...</td>\n      <td>-0.216197</td>\n      <td>0.140845</td>\n      <td>0.000000</td>\n      <td>0.070423</td>\n      <td>0.000000</td>\n      <td>0</td>\n      <td>0</td>\n      <td>0</td>\n      <td>1</td>\n      <td>0</td>\n    </tr>\n    <tr>\n      <th>...</th>\n      <td>...</td>\n      <td>...</td>\n      <td>...</td>\n      <td>...</td>\n      <td>...</td>\n      <td>...</td>\n      <td>...</td>\n      <td>...</td>\n      <td>...</td>\n      <td>...</td>\n      <td>...</td>\n      <td>...</td>\n      <td>...</td>\n      <td>...</td>\n      <td>...</td>\n      <td>...</td>\n      <td>...</td>\n      <td>...</td>\n      <td>...</td>\n      <td>...</td>\n      <td>...</td>\n    </tr>\n    <tr>\n      <th>558</th>\n      <td>17</td>\n      <td>1Y26</td>\n      <td>71</td>\n      <td>A</td>\n      <td>67</td>\n      <td>64</td>\n      <td>70</td>\n      <td>0.283582</td>\n      <td>5.840336</td>\n      <td>104.151700</td>\n      <td>...</td>\n      <td>-2.868732</td>\n      <td>1.887324</td>\n      <td>0.943662</td>\n      <td>0.943662</td>\n      <td>0.943662</td>\n      <td>1</td>\n      <td>0</td>\n      <td>0</td>\n      <td>0</td>\n      <td>0</td>\n    </tr>\n    <tr>\n      <th>559</th>\n      <td>17</td>\n      <td>1Y26</td>\n      <td>71</td>\n      <td>A</td>\n      <td>68</td>\n      <td>65</td>\n      <td>71</td>\n      <td>0.294118</td>\n      <td>0.000000</td>\n      <td>0.000000</td>\n      <td>...</td>\n      <td>-2.911549</td>\n      <td>1.915493</td>\n      <td>0.957746</td>\n      <td>0.957746</td>\n      <td>0.957746</td>\n      <td>1</td>\n      <td>0</td>\n      <td>0</td>\n      <td>0</td>\n      <td>0</td>\n    </tr>\n    <tr>\n      <th>560</th>\n      <td>17</td>\n      <td>1Y26</td>\n      <td>71</td>\n      <td>G</td>\n      <td>69</td>\n      <td>66</td>\n      <td>71</td>\n      <td>0.188406</td>\n      <td>0.000000</td>\n      <td>0.000000</td>\n      <td>...</td>\n      <td>-5.830986</td>\n      <td>2.915493</td>\n      <td>0.971831</td>\n      <td>0.000000</td>\n      <td>0.000000</td>\n      <td>0</td>\n      <td>0</td>\n      <td>1</td>\n      <td>0</td>\n      <td>0</td>\n    </tr>\n    <tr>\n      <th>561</th>\n      <td>17</td>\n      <td>1Y26</td>\n      <td>71</td>\n      <td>U</td>\n      <td>70</td>\n      <td>67</td>\n      <td>71</td>\n      <td>0.357143</td>\n      <td>0.000000</td>\n      <td>0.000000</td>\n      <td>...</td>\n      <td>-3.026761</td>\n      <td>1.971831</td>\n      <td>0.000000</td>\n      <td>0.985915</td>\n      <td>0.000000</td>\n      <td>0</td>\n      <td>0</td>\n      <td>0</td>\n      <td>1</td>\n      <td>0</td>\n    </tr>\n    <tr>\n      <th>562</th>\n      <td>17</td>\n      <td>1Y26</td>\n      <td>71</td>\n      <td>G</td>\n      <td>71</td>\n      <td>68</td>\n      <td>71</td>\n      <td>0.197183</td>\n      <td>0.000000</td>\n      <td>0.000000</td>\n      <td>...</td>\n      <td>-6.000000</td>\n      <td>3.000000</td>\n      <td>1.000000</td>\n      <td>0.000000</td>\n      <td>0.000000</td>\n      <td>0</td>\n      <td>0</td>\n      <td>1</td>\n      <td>0</td>\n      <td>0</td>\n    </tr>\n  </tbody>\n</table>\n<p>71 rows × 32 columns</p>\n</div>",
      "text/plain": "     NO  Name  SequenceAmount Sequence  Sites Number  start  end   Density  \\\n492  17  1Y26              71        C             1      1    4  1.000000   \n493  17  1Y26              71        G             2      1    5  0.500000   \n494  17  1Y26              71        C             3      1    6  0.666667   \n495  17  1Y26              71        U             4      1    7  0.250000   \n496  17  1Y26              71        U             5      2    8  0.400000   \n..   ..   ...             ...      ...           ...    ...  ...       ...   \n558  17  1Y26              71        A            67     64   70  0.283582   \n559  17  1Y26              71        A            68     65   71  0.294118   \n560  17  1Y26              71        G            69     66   71  0.188406   \n561  17  1Y26              71        U            70     67   71  0.357143   \n562  17  1Y26              71        G            71     68   71  0.197183   \n\n     v1*energyloc  v2*energyloc  ...  v4*seqloc  cb*seqloc  cp(rs)*seqloc  \\\n492      0.000000      0.000000  ...  -0.042237   0.039474       0.013158   \n493      0.000000      0.000000  ...  -0.157895   0.078947       0.026316   \n494      0.000000      0.000000  ...  -0.135634   0.126761       0.042254   \n495      0.996240     16.030472  ...  -0.172958   0.112676       0.000000   \n496      1.992479     32.060943  ...  -0.216197   0.140845       0.000000   \n..            ...           ...  ...        ...        ...            ...   \n558      5.840336    104.151700  ...  -2.868732   1.887324       0.943662   \n559      0.000000      0.000000  ...  -2.911549   1.915493       0.957746   \n560      0.000000      0.000000  ...  -5.830986   2.915493       0.971831   \n561      0.000000      0.000000  ...  -3.026761   1.971831       0.000000   \n562      0.000000      0.000000  ...  -6.000000   3.000000       1.000000   \n\n     cp(hb)*seqloc  cp(fg)*seqloc  Sequence_A  Sequence_C  Sequence_G  \\\n492       0.013158       0.013158           0           1           0   \n493       0.000000       0.000000           0           0           1   \n494       0.042254       0.042254           0           1           0   \n495       0.056338       0.000000           0           0           0   \n496       0.070423       0.000000           0           0           0   \n..             ...            ...         ...         ...         ...   \n558       0.943662       0.943662           1           0           0   \n559       0.957746       0.957746           1           0           0   \n560       0.000000       0.000000           0           0           1   \n561       0.985915       0.000000           0           0           0   \n562       0.000000       0.000000           0           0           1   \n\n     Sequence_U  BS  \n492           0   0  \n493           0   0  \n494           0   0  \n495           1   0  \n496           1   0  \n..          ...  ..  \n558           0   0  \n559           0   0  \n560           0   0  \n561           1   0  \n562           0   0  \n\n[71 rows x 32 columns]"
     },
     "execution_count": 21,
     "metadata": {},
     "output_type": "execute_result"
    }
   ],
   "source": [
    "df_complete[df_complete['NO']==17]"
   ]
  },
  {
   "cell_type": "code",
   "execution_count": 39,
   "metadata": {},
   "outputs": [],
   "source": [
    "example_num = df_complete.shape[0] # 记录数据集中的样例数目\n",
    "\n",
    "# 记录各个样例的新指标，最终应为4个长度为example_num的向量\n",
    "A_occurence = [] \n",
    "C_occurence = []\n",
    "G_occurence = []\n",
    "U_occurence = []\n",
    "\n",
    "# 迭代地计算各个样例的新指标\n",
    "for i in range(example_num):\n",
    "    start_cur = int(df_complete.iloc[i]['start']) # 取得当前样例的start特征\n",
    "    end_cur = int(df_complete.iloc[i]['end']) # 取得当前样例的end特征\n",
    "    no_cur = int(df_complete.iloc[i]['NO']) # 取得当前样例的NO特征\n",
    "    offset_cur = offset[no_cur-1] # 各个序列在完整数据集上的偏移量 e.g.Name为’1AJU'的序列的第一个样例在完整数据集上的偏移量为0\n",
    "    # 当前样例的各项新指标的计数器\n",
    "    A_cnt = 0 \n",
    "    C_cnt = 0\n",
    "    G_cnt = 0\n",
    "    U_cnt = 0\n",
    "    # 在序列内根据当前样例的start和end所确定的范围内，迭代地对A/C/G/U的出现次数进行计数\n",
    "    for j in range(offset_cur+start_cur-1, offset_cur+end_cur):\n",
    "        #calculate occurence of A/C/G/U\n",
    "        # print(j)\n",
    "        if(df_complete.iloc[j]['Sequence']=='A'):\n",
    "            A_cnt += 1\n",
    "        elif(df_complete.iloc[j]['Sequence']=='C'):\n",
    "            C_cnt += 1\n",
    "        elif(df_complete.iloc[j]['Sequence']=='G'):\n",
    "            G_cnt += 1   \n",
    "        elif(df_complete.iloc[j]['Sequence']=='U'):\n",
    "            U_cnt += 1   \n",
    "    A_occurence.append(A_cnt)\n",
    "    C_occurence.append(C_cnt)\n",
    "    G_occurence.append(G_cnt)\n",
    "    U_occurence.append(U_cnt)"
   ]
  },
  {
   "cell_type": "code",
   "execution_count": 42,
   "metadata": {},
   "outputs": [],
   "source": [
    "df_complete['A_occurence'] = A_occurence\n",
    "df_complete['C_occurence'] = C_occurence\n",
    "df_complete['G_occurence'] = G_occurence\n",
    "df_complete['U_occurence'] = U_occurence"
   ]
  },
  {
   "cell_type": "code",
   "execution_count": 43,
   "metadata": {},
   "outputs": [
    {
     "data": {
      "text/html": "<div>\n<style scoped>\n    .dataframe tbody tr th:only-of-type {\n        vertical-align: middle;\n    }\n\n    .dataframe tbody tr th {\n        vertical-align: top;\n    }\n\n    .dataframe thead th {\n        text-align: right;\n    }\n</style>\n<table border=\"1\" class=\"dataframe\">\n  <thead>\n    <tr style=\"text-align: right;\">\n      <th></th>\n      <th>NO</th>\n      <th>Name</th>\n      <th>SequenceAmount</th>\n      <th>Sequence</th>\n      <th>Sites Number</th>\n      <th>start</th>\n      <th>end</th>\n      <th>Density</th>\n      <th>v1*energyloc</th>\n      <th>v2*energyloc</th>\n      <th>...</th>\n      <th>cp(fg)*seqloc</th>\n      <th>Sequence_A</th>\n      <th>Sequence_C</th>\n      <th>Sequence_G</th>\n      <th>Sequence_U</th>\n      <th>BS</th>\n      <th>A_occurence</th>\n      <th>C_occurence</th>\n      <th>G_occurence</th>\n      <th>U_occurence</th>\n    </tr>\n  </thead>\n  <tbody>\n    <tr>\n      <th>0</th>\n      <td>1</td>\n      <td>1AJU</td>\n      <td>30</td>\n      <td>G</td>\n      <td>1</td>\n      <td>1</td>\n      <td>16</td>\n      <td>1.000000</td>\n      <td>0.087492</td>\n      <td>1.062360</td>\n      <td>...</td>\n      <td>0.000000</td>\n      <td>0</td>\n      <td>0</td>\n      <td>1</td>\n      <td>0</td>\n      <td>0</td>\n      <td>3</td>\n      <td>4</td>\n      <td>6</td>\n      <td>3</td>\n    </tr>\n    <tr>\n      <th>1</th>\n      <td>1</td>\n      <td>1AJU</td>\n      <td>30</td>\n      <td>G</td>\n      <td>2</td>\n      <td>1</td>\n      <td>17</td>\n      <td>1.000000</td>\n      <td>0.174984</td>\n      <td>2.124721</td>\n      <td>...</td>\n      <td>0.000000</td>\n      <td>0</td>\n      <td>0</td>\n      <td>1</td>\n      <td>0</td>\n      <td>0</td>\n      <td>3</td>\n      <td>4</td>\n      <td>7</td>\n      <td>3</td>\n    </tr>\n    <tr>\n      <th>2</th>\n      <td>1</td>\n      <td>1AJU</td>\n      <td>30</td>\n      <td>C</td>\n      <td>3</td>\n      <td>1</td>\n      <td>18</td>\n      <td>0.333333</td>\n      <td>0.579427</td>\n      <td>9.767859</td>\n      <td>...</td>\n      <td>0.100000</td>\n      <td>0</td>\n      <td>1</td>\n      <td>0</td>\n      <td>0</td>\n      <td>0</td>\n      <td>3</td>\n      <td>4</td>\n      <td>8</td>\n      <td>3</td>\n    </tr>\n    <tr>\n      <th>3</th>\n      <td>1</td>\n      <td>1AJU</td>\n      <td>30</td>\n      <td>C</td>\n      <td>4</td>\n      <td>1</td>\n      <td>19</td>\n      <td>0.500000</td>\n      <td>0.772570</td>\n      <td>13.023812</td>\n      <td>...</td>\n      <td>0.133333</td>\n      <td>0</td>\n      <td>1</td>\n      <td>0</td>\n      <td>0</td>\n      <td>0</td>\n      <td>4</td>\n      <td>4</td>\n      <td>8</td>\n      <td>3</td>\n    </tr>\n    <tr>\n      <th>4</th>\n      <td>1</td>\n      <td>1AJU</td>\n      <td>30</td>\n      <td>A</td>\n      <td>5</td>\n      <td>1</td>\n      <td>20</td>\n      <td>0.200000</td>\n      <td>1.006954</td>\n      <td>17.957190</td>\n      <td>...</td>\n      <td>0.166667</td>\n      <td>1</td>\n      <td>0</td>\n      <td>0</td>\n      <td>0</td>\n      <td>0</td>\n      <td>4</td>\n      <td>4</td>\n      <td>9</td>\n      <td>3</td>\n    </tr>\n  </tbody>\n</table>\n<p>5 rows × 36 columns</p>\n</div>",
      "text/plain": "   NO  Name  SequenceAmount Sequence  Sites Number  start  end   Density  \\\n0   1  1AJU              30        G             1      1   16  1.000000   \n1   1  1AJU              30        G             2      1   17  1.000000   \n2   1  1AJU              30        C             3      1   18  0.333333   \n3   1  1AJU              30        C             4      1   19  0.500000   \n4   1  1AJU              30        A             5      1   20  0.200000   \n\n   v1*energyloc  v2*energyloc  ...  cp(fg)*seqloc  Sequence_A  Sequence_C  \\\n0      0.087492      1.062360  ...       0.000000           0           0   \n1      0.174984      2.124721  ...       0.000000           0           0   \n2      0.579427      9.767859  ...       0.100000           0           1   \n3      0.772570     13.023812  ...       0.133333           0           1   \n4      1.006954     17.957190  ...       0.166667           1           0   \n\n   Sequence_G  Sequence_U  BS  A_occurence  C_occurence  G_occurence  \\\n0           1           0   0            3            4            6   \n1           1           0   0            3            4            7   \n2           0           0   0            3            4            8   \n3           0           0   0            4            4            8   \n4           0           0   0            4            4            9   \n\n   U_occurence  \n0            3  \n1            3  \n2            3  \n3            3  \n4            3  \n\n[5 rows x 36 columns]"
     },
     "execution_count": 43,
     "metadata": {},
     "output_type": "execute_result"
    }
   ],
   "source": [
    "df_complete.head()"
   ]
  },
  {
   "cell_type": "code",
   "execution_count": 46,
   "metadata": {},
   "outputs": [],
   "source": [
    "df_complete.to_excel('data_w_occurence.xlsx')"
   ]
  }
 ]
}